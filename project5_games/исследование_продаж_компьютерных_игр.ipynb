{
 "cells": [
  {
   "cell_type": "markdown",
   "id": "853be192",
   "metadata": {},
   "source": [
    "# Исследование данных о продажах компьютерных игр, поиск факторов, определяющих их успешность\n",
    "\n",
    "В нашем распоряжении данные из открытых источников (до 2016 года): \n",
    "* исторические данные о продажах игр\n",
    "* оценки пользователей и экспертов \n",
    "* жанры \n",
    "* платформы\n",
    "\n",
    "Цель работы - выполнить предобработку данных, изучить их, найти интересные особенности и определяющие успешность игры зависимости, сформулировать и проверить несколько гипотез. Полученный анализ должен стать инструментом, который позволит сделать ставку на потенциально популярный продукт и спланировать рекламные кампании на 2017-й интернет-магазину, который продаёт по всему миру компьютерные игры."
   ]
  },
  {
   "cell_type": "markdown",
   "id": "0374ccd5",
   "metadata": {},
   "source": [
    "## 1. Подготовка данных"
   ]
  },
  {
   "cell_type": "code",
   "execution_count": 1,
   "id": "898488fb",
   "metadata": {},
   "outputs": [],
   "source": [
    "# импорт необходимых библиотек\n",
    "import pandas as pd\n",
    "import numpy as np\n",
    "import matplotlib.pyplot as plt\n",
    "from scipy import stats as st"
   ]
  },
  {
   "cell_type": "code",
   "execution_count": 2,
   "id": "30405891",
   "metadata": {},
   "outputs": [],
   "source": [
    "# импорт данных\n",
    "data = pd.read_csv(\n",
    "    'C:/DataAnalysis/initial_data/project_5/games.csv')"
   ]
  },
  {
   "cell_type": "code",
   "execution_count": 3,
   "id": "c4c16a27",
   "metadata": {},
   "outputs": [
    {
     "data": {
      "text/html": [
       "<div>\n",
       "<style scoped>\n",
       "    .dataframe tbody tr th:only-of-type {\n",
       "        vertical-align: middle;\n",
       "    }\n",
       "\n",
       "    .dataframe tbody tr th {\n",
       "        vertical-align: top;\n",
       "    }\n",
       "\n",
       "    .dataframe thead th {\n",
       "        text-align: right;\n",
       "    }\n",
       "</style>\n",
       "<table border=\"1\" class=\"dataframe\">\n",
       "  <thead>\n",
       "    <tr style=\"text-align: right;\">\n",
       "      <th></th>\n",
       "      <th>Name</th>\n",
       "      <th>Platform</th>\n",
       "      <th>Year_of_Release</th>\n",
       "      <th>Genre</th>\n",
       "      <th>NA_sales</th>\n",
       "      <th>EU_sales</th>\n",
       "      <th>JP_sales</th>\n",
       "      <th>Other_sales</th>\n",
       "      <th>Critic_Score</th>\n",
       "      <th>User_Score</th>\n",
       "      <th>Rating</th>\n",
       "    </tr>\n",
       "  </thead>\n",
       "  <tbody>\n",
       "    <tr>\n",
       "      <th>0</th>\n",
       "      <td>Wii Sports</td>\n",
       "      <td>Wii</td>\n",
       "      <td>2006.0</td>\n",
       "      <td>Sports</td>\n",
       "      <td>41.36</td>\n",
       "      <td>28.96</td>\n",
       "      <td>3.77</td>\n",
       "      <td>8.45</td>\n",
       "      <td>76.0</td>\n",
       "      <td>8</td>\n",
       "      <td>E</td>\n",
       "    </tr>\n",
       "    <tr>\n",
       "      <th>1</th>\n",
       "      <td>Super Mario Bros.</td>\n",
       "      <td>NES</td>\n",
       "      <td>1985.0</td>\n",
       "      <td>Platform</td>\n",
       "      <td>29.08</td>\n",
       "      <td>3.58</td>\n",
       "      <td>6.81</td>\n",
       "      <td>0.77</td>\n",
       "      <td>NaN</td>\n",
       "      <td>NaN</td>\n",
       "      <td>NaN</td>\n",
       "    </tr>\n",
       "    <tr>\n",
       "      <th>2</th>\n",
       "      <td>Mario Kart Wii</td>\n",
       "      <td>Wii</td>\n",
       "      <td>2008.0</td>\n",
       "      <td>Racing</td>\n",
       "      <td>15.68</td>\n",
       "      <td>12.76</td>\n",
       "      <td>3.79</td>\n",
       "      <td>3.29</td>\n",
       "      <td>82.0</td>\n",
       "      <td>8.3</td>\n",
       "      <td>E</td>\n",
       "    </tr>\n",
       "    <tr>\n",
       "      <th>3</th>\n",
       "      <td>Wii Sports Resort</td>\n",
       "      <td>Wii</td>\n",
       "      <td>2009.0</td>\n",
       "      <td>Sports</td>\n",
       "      <td>15.61</td>\n",
       "      <td>10.93</td>\n",
       "      <td>3.28</td>\n",
       "      <td>2.95</td>\n",
       "      <td>80.0</td>\n",
       "      <td>8</td>\n",
       "      <td>E</td>\n",
       "    </tr>\n",
       "    <tr>\n",
       "      <th>4</th>\n",
       "      <td>Pokemon Red/Pokemon Blue</td>\n",
       "      <td>GB</td>\n",
       "      <td>1996.0</td>\n",
       "      <td>Role-Playing</td>\n",
       "      <td>11.27</td>\n",
       "      <td>8.89</td>\n",
       "      <td>10.22</td>\n",
       "      <td>1.00</td>\n",
       "      <td>NaN</td>\n",
       "      <td>NaN</td>\n",
       "      <td>NaN</td>\n",
       "    </tr>\n",
       "  </tbody>\n",
       "</table>\n",
       "</div>"
      ],
      "text/plain": [
       "                       Name Platform  Year_of_Release         Genre  NA_sales  \\\n",
       "0                Wii Sports      Wii           2006.0        Sports     41.36   \n",
       "1         Super Mario Bros.      NES           1985.0      Platform     29.08   \n",
       "2            Mario Kart Wii      Wii           2008.0        Racing     15.68   \n",
       "3         Wii Sports Resort      Wii           2009.0        Sports     15.61   \n",
       "4  Pokemon Red/Pokemon Blue       GB           1996.0  Role-Playing     11.27   \n",
       "\n",
       "   EU_sales  JP_sales  Other_sales  Critic_Score User_Score Rating  \n",
       "0     28.96      3.77         8.45          76.0          8      E  \n",
       "1      3.58      6.81         0.77           NaN        NaN    NaN  \n",
       "2     12.76      3.79         3.29          82.0        8.3      E  \n",
       "3     10.93      3.28         2.95          80.0          8      E  \n",
       "4      8.89     10.22         1.00           NaN        NaN    NaN  "
      ]
     },
     "execution_count": 3,
     "metadata": {},
     "output_type": "execute_result"
    }
   ],
   "source": [
    "data.head(5) # знакомство с массивом данных"
   ]
  },
  {
   "cell_type": "code",
   "execution_count": 4,
   "id": "bea60412",
   "metadata": {},
   "outputs": [
    {
     "name": "stdout",
     "output_type": "stream",
     "text": [
      "<class 'pandas.core.frame.DataFrame'>\n",
      "RangeIndex: 16715 entries, 0 to 16714\n",
      "Data columns (total 11 columns):\n",
      " #   Column           Non-Null Count  Dtype  \n",
      "---  ------           --------------  -----  \n",
      " 0   Name             16713 non-null  object \n",
      " 1   Platform         16715 non-null  object \n",
      " 2   Year_of_Release  16446 non-null  float64\n",
      " 3   Genre            16713 non-null  object \n",
      " 4   NA_sales         16715 non-null  float64\n",
      " 5   EU_sales         16715 non-null  float64\n",
      " 6   JP_sales         16715 non-null  float64\n",
      " 7   Other_sales      16715 non-null  float64\n",
      " 8   Critic_Score     8137 non-null   float64\n",
      " 9   User_Score       10014 non-null  object \n",
      " 10  Rating           9949 non-null   object \n",
      "dtypes: float64(6), object(5)\n",
      "memory usage: 1.4+ MB\n"
     ]
    }
   ],
   "source": [
    "data.info() # знакомство с массивом данных"
   ]
  },
  {
   "cell_type": "markdown",
   "id": "26b4ae1e",
   "metadata": {},
   "source": [
    "### 1.1 Предобработка"
   ]
  },
  {
   "cell_type": "markdown",
   "id": "3c3dce09",
   "metadata": {},
   "source": [
    "#### 1.1.1 Приведение названий столбцов к нижнему регистру"
   ]
  },
  {
   "cell_type": "code",
   "execution_count": 5,
   "id": "b9b32436",
   "metadata": {},
   "outputs": [
    {
     "data": {
      "text/html": [
       "<div>\n",
       "<style scoped>\n",
       "    .dataframe tbody tr th:only-of-type {\n",
       "        vertical-align: middle;\n",
       "    }\n",
       "\n",
       "    .dataframe tbody tr th {\n",
       "        vertical-align: top;\n",
       "    }\n",
       "\n",
       "    .dataframe thead th {\n",
       "        text-align: right;\n",
       "    }\n",
       "</style>\n",
       "<table border=\"1\" class=\"dataframe\">\n",
       "  <thead>\n",
       "    <tr style=\"text-align: right;\">\n",
       "      <th></th>\n",
       "      <th>name</th>\n",
       "      <th>platform</th>\n",
       "      <th>year_of_release</th>\n",
       "      <th>genre</th>\n",
       "      <th>na_sales</th>\n",
       "      <th>eu_sales</th>\n",
       "      <th>jp_sales</th>\n",
       "      <th>other_sales</th>\n",
       "      <th>critic_score</th>\n",
       "      <th>user_score</th>\n",
       "      <th>rating</th>\n",
       "    </tr>\n",
       "  </thead>\n",
       "  <tbody>\n",
       "    <tr>\n",
       "      <th>0</th>\n",
       "      <td>Wii Sports</td>\n",
       "      <td>Wii</td>\n",
       "      <td>2006.0</td>\n",
       "      <td>Sports</td>\n",
       "      <td>41.36</td>\n",
       "      <td>28.96</td>\n",
       "      <td>3.77</td>\n",
       "      <td>8.45</td>\n",
       "      <td>76.0</td>\n",
       "      <td>8</td>\n",
       "      <td>E</td>\n",
       "    </tr>\n",
       "    <tr>\n",
       "      <th>1</th>\n",
       "      <td>Super Mario Bros.</td>\n",
       "      <td>NES</td>\n",
       "      <td>1985.0</td>\n",
       "      <td>Platform</td>\n",
       "      <td>29.08</td>\n",
       "      <td>3.58</td>\n",
       "      <td>6.81</td>\n",
       "      <td>0.77</td>\n",
       "      <td>NaN</td>\n",
       "      <td>NaN</td>\n",
       "      <td>NaN</td>\n",
       "    </tr>\n",
       "    <tr>\n",
       "      <th>2</th>\n",
       "      <td>Mario Kart Wii</td>\n",
       "      <td>Wii</td>\n",
       "      <td>2008.0</td>\n",
       "      <td>Racing</td>\n",
       "      <td>15.68</td>\n",
       "      <td>12.76</td>\n",
       "      <td>3.79</td>\n",
       "      <td>3.29</td>\n",
       "      <td>82.0</td>\n",
       "      <td>8.3</td>\n",
       "      <td>E</td>\n",
       "    </tr>\n",
       "    <tr>\n",
       "      <th>3</th>\n",
       "      <td>Wii Sports Resort</td>\n",
       "      <td>Wii</td>\n",
       "      <td>2009.0</td>\n",
       "      <td>Sports</td>\n",
       "      <td>15.61</td>\n",
       "      <td>10.93</td>\n",
       "      <td>3.28</td>\n",
       "      <td>2.95</td>\n",
       "      <td>80.0</td>\n",
       "      <td>8</td>\n",
       "      <td>E</td>\n",
       "    </tr>\n",
       "    <tr>\n",
       "      <th>4</th>\n",
       "      <td>Pokemon Red/Pokemon Blue</td>\n",
       "      <td>GB</td>\n",
       "      <td>1996.0</td>\n",
       "      <td>Role-Playing</td>\n",
       "      <td>11.27</td>\n",
       "      <td>8.89</td>\n",
       "      <td>10.22</td>\n",
       "      <td>1.00</td>\n",
       "      <td>NaN</td>\n",
       "      <td>NaN</td>\n",
       "      <td>NaN</td>\n",
       "    </tr>\n",
       "  </tbody>\n",
       "</table>\n",
       "</div>"
      ],
      "text/plain": [
       "                       name platform  year_of_release         genre  na_sales  \\\n",
       "0                Wii Sports      Wii           2006.0        Sports     41.36   \n",
       "1         Super Mario Bros.      NES           1985.0      Platform     29.08   \n",
       "2            Mario Kart Wii      Wii           2008.0        Racing     15.68   \n",
       "3         Wii Sports Resort      Wii           2009.0        Sports     15.61   \n",
       "4  Pokemon Red/Pokemon Blue       GB           1996.0  Role-Playing     11.27   \n",
       "\n",
       "   eu_sales  jp_sales  other_sales  critic_score user_score rating  \n",
       "0     28.96      3.77         8.45          76.0          8      E  \n",
       "1      3.58      6.81         0.77           NaN        NaN    NaN  \n",
       "2     12.76      3.79         3.29          82.0        8.3      E  \n",
       "3     10.93      3.28         2.95          80.0          8      E  \n",
       "4      8.89     10.22         1.00           NaN        NaN    NaN  "
      ]
     },
     "execution_count": 5,
     "metadata": {},
     "output_type": "execute_result"
    }
   ],
   "source": [
    "data.columns = data.columns.str.lower()\n",
    "data.head(5)"
   ]
  },
  {
   "cell_type": "markdown",
   "id": "464164b5",
   "metadata": {},
   "source": [
    "#### 1.1.2 Преобразование типов данных в столбцах"
   ]
  },
  {
   "cell_type": "markdown",
   "id": "4b7bf1dd",
   "metadata": {},
   "source": [
    "Изучим уникальные значения для выбора типа данных у столбцов, где имеется исходных формат, потенциально не позволяющий полноценно их использовать: \n",
    "* year_of_release - float64\n",
    "* user_score - object"
   ]
  },
  {
   "cell_type": "code",
   "execution_count": 6,
   "id": "e64674f0",
   "metadata": {},
   "outputs": [
    {
     "data": {
      "text/plain": [
       "array([1980., 1981., 1982., 1983., 1984., 1985., 1986., 1987., 1988.,\n",
       "       1989., 1990., 1991., 1992., 1993., 1994., 1995., 1996., 1997.,\n",
       "       1998., 1999., 2000., 2001., 2002., 2003., 2004., 2005., 2006.,\n",
       "       2007., 2008., 2009., 2010., 2011., 2012., 2013., 2014., 2015.,\n",
       "       2016.,   nan])"
      ]
     },
     "metadata": {},
     "output_type": "display_data"
    },
    {
     "data": {
      "text/plain": [
       "array(['0', '0.2', '0.3', '0.5', '0.6', '0.7', '0.9', '1', '1.1', '1.2',\n",
       "       '1.3', '1.4', '1.5', '1.6', '1.7', '1.8', '1.9', '2', '2.1', '2.2',\n",
       "       '2.3', '2.4', '2.5', '2.6', '2.7', '2.8', '2.9', '3', '3.1', '3.2',\n",
       "       '3.3', '3.4', '3.5', '3.6', '3.7', '3.8', '3.9', '4', '4.1', '4.2',\n",
       "       '4.3', '4.4', '4.5', '4.6', '4.7', '4.8', '4.9', '5', '5.1', '5.2',\n",
       "       '5.3', '5.4', '5.5', '5.6', '5.7', '5.8', '5.9', '6', '6.1', '6.2',\n",
       "       '6.3', '6.4', '6.5', '6.6', '6.7', '6.8', '6.9', '7', '7.1', '7.2',\n",
       "       '7.3', '7.4', '7.5', '7.6', '7.7', '7.8', '7.9', '8', '8.1', '8.2',\n",
       "       '8.3', '8.4', '8.5', '8.6', '8.7', '8.8', '8.9', '9', '9.1', '9.2',\n",
       "       '9.3', '9.4', '9.5', '9.6', '9.7', 'tbd', nan], dtype=object)"
      ]
     },
     "metadata": {},
     "output_type": "display_data"
    }
   ],
   "source": [
    "display(data['year_of_release'].sort_values().unique())\n",
    "display(data['user_score'].sort_values().unique())"
   ]
  },
  {
   "cell_type": "markdown",
   "id": "4199a4d2",
   "metadata": {},
   "source": [
    "Даты релизов представлены просто только годами. Преобразовывать именно в формат дат года нет смысла, для анализа подойдет просто конвертация их типа в целые числа."
   ]
  },
  {
   "cell_type": "code",
   "execution_count": 7,
   "id": "c5f7db9f",
   "metadata": {},
   "outputs": [
    {
     "data": {
      "text/plain": [
       "<IntegerArray>\n",
       "[1980, 1981, 1982, 1983, 1984, 1985, 1986, 1987, 1988, 1989, 1990, 1991, 1992,\n",
       " 1993, 1994, 1995, 1996, 1997, 1998, 1999, 2000, 2001, 2002, 2003, 2004, 2005,\n",
       " 2006, 2007, 2008, 2009, 2010, 2011, 2012, 2013, 2014, 2015, 2016, <NA>]\n",
       "Length: 38, dtype: Int64"
      ]
     },
     "metadata": {},
     "output_type": "display_data"
    }
   ],
   "source": [
    "data['year_of_release'] = data['year_of_release'].astype('Int64') # преобразуем год релиза в целые значения\n",
    "display(data['year_of_release'].sort_values().unique())"
   ]
  },
  {
   "cell_type": "markdown",
   "id": "c5f8662a",
   "metadata": {},
   "source": [
    "В столбце user_score присутствует строковое значение 'tbd', которое не позволяет преобразовать столбец из object в float.\n",
    "\n",
    "В следующих этапах нам вероятно понадобиться использование данного столбца именно как числового, таким образом, нужно понять, что обозначает 'tbd'.\n",
    "\n",
    "'tbd' - to be determined = будет определено. Таким образом, это значение относится к играм, которые еще не были оценены. \n",
    "Для дальнейшей работы необходимо заменить это значение на пустоты.\n",
    "\n",
    "Перед удалением проверим, относится ли 'tbd' только к самым свежим играм 2016г или ко всему массиву данных. Эти особенности сможем учесть при последующих выводах. "
   ]
  },
  {
   "cell_type": "code",
   "execution_count": 8,
   "id": "c9360e2f",
   "metadata": {},
   "outputs": [
    {
     "data": {
      "image/png": "[encoded data removed]",
      "text/plain": [
       "<Figure size 1500x300 with 1 Axes>"
      ]
     },
     "metadata": {},
     "output_type": "display_data"
    }
   ],
   "source": [
    "# уточнение, не относится ли значение \"tbd\" к новым играм, которые еще не были оценены \n",
    "data[data.user_score == \"tbd\"]['year_of_release'].hist(bins = 10, figsize = (15,3));"
   ]
  },
  {
   "cell_type": "markdown",
   "id": "a0a71ae1",
   "metadata": {},
   "source": [
    "'tbd' присутствует во многих годах, поэтому приравниваем его значение к отсутствию информации."
   ]
  },
  {
   "cell_type": "code",
   "execution_count": 9,
   "id": "b0f32cff",
   "metadata": {},
   "outputs": [],
   "source": [
    "# замена \"tbd\" на Nan\n",
    "data.loc[data['user_score'] == 'tbd', 'user_score'] = data.loc[data['user_score']=='nan', 'user_score'] \n",
    "data['user_score'] = data['user_score'].astype('float') "
   ]
  },
  {
   "cell_type": "markdown",
   "id": "beb02924",
   "metadata": {},
   "source": [
    "##### Комментарий: причины замен типов данных\n",
    "\n",
    "С целью дальнейшей работы с параметрами (графики, расчет статистических параметров) выполнена замена типов данных в столбцах с годом релиза (дробные float изменены на целые int) и с пользовательским рейтингом (object в float)"
   ]
  },
  {
   "cell_type": "markdown",
   "id": "a30d45c3",
   "metadata": {},
   "source": [
    "#### 1.1.3 Обработка пропусков"
   ]
  },
  {
   "cell_type": "code",
   "execution_count": 10,
   "id": "21601f08",
   "metadata": {},
   "outputs": [],
   "source": [
    "# определение, в каких столбцах есть пропуски\n",
    "# функция для визуализации кол-ва пропусков\n",
    "def pass_value_barh(df):\n",
    "    try:\n",
    "        (\n",
    "            (df.isna().mean()*100)\n",
    "            .to_frame()\n",
    "            .rename(columns = {0:'space'})\n",
    "            .query('space > 0')\n",
    "            .sort_values(by = 'space', ascending = True)\n",
    "            .plot(kind = 'barh', figsize = (20,4), legend = False, fontsize = 16)\n",
    "            .set_title('Пропуски данных' + \"\\n\", fontsize = 22, color = 'SteelBlue')    \n",
    "        );    \n",
    "    except:\n",
    "        print('пропусков не осталось :) или произошла ошибка в первой части функции ')"
   ]
  },
  {
   "cell_type": "code",
   "execution_count": 11,
   "id": "6634021d",
   "metadata": {},
   "outputs": [
    {
     "data": {
      "text/plain": [
       "user_score         9125\n",
       "critic_score       8578\n",
       "rating             6766\n",
       "year_of_release     269\n",
       "name                  2\n",
       "genre                 2\n",
       "platform              0\n",
       "na_sales              0\n",
       "eu_sales              0\n",
       "jp_sales              0\n",
       "other_sales           0\n",
       "dtype: int64"
      ]
     },
     "execution_count": 11,
     "metadata": {},
     "output_type": "execute_result"
    },
    {
     "data": {
      "image/png": "[encoded data removed]",
      "text/plain": [
       "<Figure size 2000x400 with 1 Axes>"
      ]
     },
     "metadata": {},
     "output_type": "display_data"
    }
   ],
   "source": [
    "pass_value_barh(data)\n",
    "plt.xlabel('%  пропусков', fontsize = 16)\n",
    "data.isna().sum().sort_values(ascending=False)"
   ]
  },
  {
   "cell_type": "markdown",
   "id": "50df3a17",
   "metadata": {},
   "source": [
    "Всего в 6 столбцах имеются пропуски.\n",
    "\n",
    "Пропуски в первых 4 верхних столбцах невозможно восстановить аналитическими способами, только собрав информацию из других источников. Сделаем предположение, что отсутствие данных здесь обозначает от отсутствие этих данных в открытом доступе.\n",
    "\n",
    "Рассмотрим детально оставшиеся три столбца:"
   ]
  },
  {
   "cell_type": "code",
   "execution_count": 12,
   "id": "9d354c88",
   "metadata": {},
   "outputs": [
    {
     "data": {
      "text/html": [
       "<div>\n",
       "<style scoped>\n",
       "    .dataframe tbody tr th:only-of-type {\n",
       "        vertical-align: middle;\n",
       "    }\n",
       "\n",
       "    .dataframe tbody tr th {\n",
       "        vertical-align: top;\n",
       "    }\n",
       "\n",
       "    .dataframe thead th {\n",
       "        text-align: right;\n",
       "    }\n",
       "</style>\n",
       "<table border=\"1\" class=\"dataframe\">\n",
       "  <thead>\n",
       "    <tr style=\"text-align: right;\">\n",
       "      <th></th>\n",
       "      <th>name</th>\n",
       "      <th>platform</th>\n",
       "      <th>year_of_release</th>\n",
       "      <th>genre</th>\n",
       "      <th>na_sales</th>\n",
       "      <th>eu_sales</th>\n",
       "      <th>jp_sales</th>\n",
       "      <th>other_sales</th>\n",
       "      <th>critic_score</th>\n",
       "      <th>user_score</th>\n",
       "      <th>rating</th>\n",
       "    </tr>\n",
       "  </thead>\n",
       "  <tbody>\n",
       "    <tr>\n",
       "      <th>659</th>\n",
       "      <td>NaN</td>\n",
       "      <td>GEN</td>\n",
       "      <td>1993</td>\n",
       "      <td>NaN</td>\n",
       "      <td>1.78</td>\n",
       "      <td>0.53</td>\n",
       "      <td>0.00</td>\n",
       "      <td>0.08</td>\n",
       "      <td>NaN</td>\n",
       "      <td>NaN</td>\n",
       "      <td>NaN</td>\n",
       "    </tr>\n",
       "    <tr>\n",
       "      <th>14244</th>\n",
       "      <td>NaN</td>\n",
       "      <td>GEN</td>\n",
       "      <td>1993</td>\n",
       "      <td>NaN</td>\n",
       "      <td>0.00</td>\n",
       "      <td>0.00</td>\n",
       "      <td>0.03</td>\n",
       "      <td>0.00</td>\n",
       "      <td>NaN</td>\n",
       "      <td>NaN</td>\n",
       "      <td>NaN</td>\n",
       "    </tr>\n",
       "  </tbody>\n",
       "</table>\n",
       "</div>"
      ],
      "text/plain": [
       "      name platform  year_of_release genre  na_sales  eu_sales  jp_sales  \\\n",
       "659    NaN      GEN             1993   NaN      1.78      0.53      0.00   \n",
       "14244  NaN      GEN             1993   NaN      0.00      0.00      0.03   \n",
       "\n",
       "       other_sales  critic_score  user_score rating  \n",
       "659           0.08           NaN         NaN    NaN  \n",
       "14244         0.00           NaN         NaN    NaN  "
      ]
     },
     "metadata": {},
     "output_type": "display_data"
    },
    {
     "data": {
      "text/html": [
       "<div>\n",
       "<style scoped>\n",
       "    .dataframe tbody tr th:only-of-type {\n",
       "        vertical-align: middle;\n",
       "    }\n",
       "\n",
       "    .dataframe tbody tr th {\n",
       "        vertical-align: top;\n",
       "    }\n",
       "\n",
       "    .dataframe thead th {\n",
       "        text-align: right;\n",
       "    }\n",
       "</style>\n",
       "<table border=\"1\" class=\"dataframe\">\n",
       "  <thead>\n",
       "    <tr style=\"text-align: right;\">\n",
       "      <th></th>\n",
       "      <th>name</th>\n",
       "      <th>platform</th>\n",
       "      <th>year_of_release</th>\n",
       "      <th>genre</th>\n",
       "      <th>na_sales</th>\n",
       "      <th>eu_sales</th>\n",
       "      <th>jp_sales</th>\n",
       "      <th>other_sales</th>\n",
       "      <th>critic_score</th>\n",
       "      <th>user_score</th>\n",
       "      <th>rating</th>\n",
       "    </tr>\n",
       "  </thead>\n",
       "  <tbody>\n",
       "    <tr>\n",
       "      <th>659</th>\n",
       "      <td>NaN</td>\n",
       "      <td>GEN</td>\n",
       "      <td>1993</td>\n",
       "      <td>NaN</td>\n",
       "      <td>1.78</td>\n",
       "      <td>0.53</td>\n",
       "      <td>0.00</td>\n",
       "      <td>0.08</td>\n",
       "      <td>NaN</td>\n",
       "      <td>NaN</td>\n",
       "      <td>NaN</td>\n",
       "    </tr>\n",
       "    <tr>\n",
       "      <th>14244</th>\n",
       "      <td>NaN</td>\n",
       "      <td>GEN</td>\n",
       "      <td>1993</td>\n",
       "      <td>NaN</td>\n",
       "      <td>0.00</td>\n",
       "      <td>0.00</td>\n",
       "      <td>0.03</td>\n",
       "      <td>0.00</td>\n",
       "      <td>NaN</td>\n",
       "      <td>NaN</td>\n",
       "      <td>NaN</td>\n",
       "    </tr>\n",
       "  </tbody>\n",
       "</table>\n",
       "</div>"
      ],
      "text/plain": [
       "      name platform  year_of_release genre  na_sales  eu_sales  jp_sales  \\\n",
       "659    NaN      GEN             1993   NaN      1.78      0.53      0.00   \n",
       "14244  NaN      GEN             1993   NaN      0.00      0.00      0.03   \n",
       "\n",
       "       other_sales  critic_score  user_score rating  \n",
       "659           0.08           NaN         NaN    NaN  \n",
       "14244         0.00           NaN         NaN    NaN  "
      ]
     },
     "metadata": {},
     "output_type": "display_data"
    }
   ],
   "source": [
    "# вывод уникальных значений для определения целесообразности обработки пропусков\n",
    "display(data[data.name.isna()])\n",
    "display(data[data.genre.isna()]) "
   ]
  },
  {
   "cell_type": "code",
   "execution_count": 13,
   "id": "0dc2e611",
   "metadata": {},
   "outputs": [],
   "source": [
    "# удаление строк с пустыми именами и жанрами\n",
    "data = data.dropna(subset = ['name'])"
   ]
  },
  {
   "cell_type": "code",
   "execution_count": 14,
   "id": "17abfef3",
   "metadata": {},
   "outputs": [
    {
     "data": {
      "text/plain": [
       "user_score         9123\n",
       "critic_score       8576\n",
       "rating             6764\n",
       "year_of_release     269\n",
       "name                  0\n",
       "platform              0\n",
       "genre                 0\n",
       "na_sales              0\n",
       "eu_sales              0\n",
       "jp_sales              0\n",
       "other_sales           0\n",
       "dtype: int64"
      ]
     },
     "execution_count": 14,
     "metadata": {},
     "output_type": "execute_result"
    },
    {
     "data": {
      "image/png": "[encoded data removed]",
      "text/plain": [
       "<Figure size 2000x400 with 1 Axes>"
      ]
     },
     "metadata": {},
     "output_type": "display_data"
    }
   ],
   "source": [
    "pass_value_barh(data)\n",
    "plt.xlabel('%  пропусков', fontsize = 16)\n",
    "data.isna().sum().sort_values(ascending=False)"
   ]
  },
  {
   "cell_type": "markdown",
   "id": "56faa820",
   "metadata": {},
   "source": [
    "##### Комментарий: причины выполнения обработки пропусков \n",
    "\n",
    "Пропуски в названии игр и жанра пропущены у одних и тех же строк. Данные неполные, всего 2 значения, для анализа роли не сыграют, принимает решение об удалении строк. Наиболее вероятная причина пропусков - тех. ошибка при сведении данных, либо человеческий фактор. \n",
    "\n",
    "Пропуски в оценках критиков, пользователей,  рейтинге ESRB и годе выпуска могут быть связаны с техническими ошибками при выгрузке/своде данных, либо с их отсутствием."
   ]
  },
  {
   "cell_type": "markdown",
   "id": "f81eb9f2",
   "metadata": {},
   "source": [
    "### 1.2 Расчет суммарных продаж во всех регионах"
   ]
  },
  {
   "cell_type": "code",
   "execution_count": 15,
   "id": "32c964d5",
   "metadata": {},
   "outputs": [],
   "source": [
    "data['total_sales'] = data[['na_sales','eu_sales','jp_sales', 'other_sales']].sum(axis = 1)"
   ]
  },
  {
   "cell_type": "code",
   "execution_count": 16,
   "id": "63fc8585",
   "metadata": {},
   "outputs": [
    {
     "data": {
      "text/html": [
       "<div>\n",
       "<style scoped>\n",
       "    .dataframe tbody tr th:only-of-type {\n",
       "        vertical-align: middle;\n",
       "    }\n",
       "\n",
       "    .dataframe tbody tr th {\n",
       "        vertical-align: top;\n",
       "    }\n",
       "\n",
       "    .dataframe thead th {\n",
       "        text-align: right;\n",
       "    }\n",
       "</style>\n",
       "<table border=\"1\" class=\"dataframe\">\n",
       "  <thead>\n",
       "    <tr style=\"text-align: right;\">\n",
       "      <th></th>\n",
       "      <th>name</th>\n",
       "      <th>platform</th>\n",
       "      <th>year_of_release</th>\n",
       "      <th>genre</th>\n",
       "      <th>na_sales</th>\n",
       "      <th>eu_sales</th>\n",
       "      <th>jp_sales</th>\n",
       "      <th>other_sales</th>\n",
       "      <th>critic_score</th>\n",
       "      <th>user_score</th>\n",
       "      <th>rating</th>\n",
       "      <th>total_sales</th>\n",
       "    </tr>\n",
       "  </thead>\n",
       "  <tbody>\n",
       "    <tr>\n",
       "      <th>0</th>\n",
       "      <td>Wii Sports</td>\n",
       "      <td>Wii</td>\n",
       "      <td>2006</td>\n",
       "      <td>Sports</td>\n",
       "      <td>41.36</td>\n",
       "      <td>28.96</td>\n",
       "      <td>3.77</td>\n",
       "      <td>8.45</td>\n",
       "      <td>76.0</td>\n",
       "      <td>8.0</td>\n",
       "      <td>E</td>\n",
       "      <td>82.54</td>\n",
       "    </tr>\n",
       "    <tr>\n",
       "      <th>1</th>\n",
       "      <td>Super Mario Bros.</td>\n",
       "      <td>NES</td>\n",
       "      <td>1985</td>\n",
       "      <td>Platform</td>\n",
       "      <td>29.08</td>\n",
       "      <td>3.58</td>\n",
       "      <td>6.81</td>\n",
       "      <td>0.77</td>\n",
       "      <td>NaN</td>\n",
       "      <td>NaN</td>\n",
       "      <td>NaN</td>\n",
       "      <td>40.24</td>\n",
       "    </tr>\n",
       "    <tr>\n",
       "      <th>2</th>\n",
       "      <td>Mario Kart Wii</td>\n",
       "      <td>Wii</td>\n",
       "      <td>2008</td>\n",
       "      <td>Racing</td>\n",
       "      <td>15.68</td>\n",
       "      <td>12.76</td>\n",
       "      <td>3.79</td>\n",
       "      <td>3.29</td>\n",
       "      <td>82.0</td>\n",
       "      <td>8.3</td>\n",
       "      <td>E</td>\n",
       "      <td>35.52</td>\n",
       "    </tr>\n",
       "    <tr>\n",
       "      <th>3</th>\n",
       "      <td>Wii Sports Resort</td>\n",
       "      <td>Wii</td>\n",
       "      <td>2009</td>\n",
       "      <td>Sports</td>\n",
       "      <td>15.61</td>\n",
       "      <td>10.93</td>\n",
       "      <td>3.28</td>\n",
       "      <td>2.95</td>\n",
       "      <td>80.0</td>\n",
       "      <td>8.0</td>\n",
       "      <td>E</td>\n",
       "      <td>32.77</td>\n",
       "    </tr>\n",
       "    <tr>\n",
       "      <th>4</th>\n",
       "      <td>Pokemon Red/Pokemon Blue</td>\n",
       "      <td>GB</td>\n",
       "      <td>1996</td>\n",
       "      <td>Role-Playing</td>\n",
       "      <td>11.27</td>\n",
       "      <td>8.89</td>\n",
       "      <td>10.22</td>\n",
       "      <td>1.00</td>\n",
       "      <td>NaN</td>\n",
       "      <td>NaN</td>\n",
       "      <td>NaN</td>\n",
       "      <td>31.38</td>\n",
       "    </tr>\n",
       "  </tbody>\n",
       "</table>\n",
       "</div>"
      ],
      "text/plain": [
       "                       name platform  year_of_release         genre  na_sales  \\\n",
       "0                Wii Sports      Wii             2006        Sports     41.36   \n",
       "1         Super Mario Bros.      NES             1985      Platform     29.08   \n",
       "2            Mario Kart Wii      Wii             2008        Racing     15.68   \n",
       "3         Wii Sports Resort      Wii             2009        Sports     15.61   \n",
       "4  Pokemon Red/Pokemon Blue       GB             1996  Role-Playing     11.27   \n",
       "\n",
       "   eu_sales  jp_sales  other_sales  critic_score  user_score rating  \\\n",
       "0     28.96      3.77         8.45          76.0         8.0      E   \n",
       "1      3.58      6.81         0.77           NaN         NaN    NaN   \n",
       "2     12.76      3.79         3.29          82.0         8.3      E   \n",
       "3     10.93      3.28         2.95          80.0         8.0      E   \n",
       "4      8.89     10.22         1.00           NaN         NaN    NaN   \n",
       "\n",
       "   total_sales  \n",
       "0        82.54  \n",
       "1        40.24  \n",
       "2        35.52  \n",
       "3        32.77  \n",
       "4        31.38  "
      ]
     },
     "execution_count": 16,
     "metadata": {},
     "output_type": "execute_result"
    }
   ],
   "source": [
    "data.head(5)"
   ]
  },
  {
   "cell_type": "markdown",
   "id": "0facd31b",
   "metadata": {},
   "source": [
    "### 1.3 Проверка на наличие дубликатов"
   ]
  },
  {
   "cell_type": "code",
   "execution_count": 17,
   "id": "0763822b",
   "metadata": {},
   "outputs": [],
   "source": [
    "data['name'] = data['name'].str.lower() # в столбце с множеством уникальных значений приведем все к нижнему регистру"
   ]
  },
  {
   "cell_type": "code",
   "execution_count": 18,
   "id": "6c34014d",
   "metadata": {},
   "outputs": [
    {
     "data": {
      "text/plain": [
       "False    16713\n",
       "dtype: int64"
      ]
     },
     "execution_count": 18,
     "metadata": {},
     "output_type": "execute_result"
    }
   ],
   "source": [
    "data.duplicated().value_counts() # поиск явных дубликатов"
   ]
  },
  {
   "cell_type": "markdown",
   "id": "d47b4a9b",
   "metadata": {},
   "source": [
    "Явных дубликатов в данных нет, выполним проверку на наличие неявных дубликатов"
   ]
  },
  {
   "cell_type": "code",
   "execution_count": 19,
   "id": "c3c53508",
   "metadata": {},
   "outputs": [
    {
     "data": {
      "text/plain": [
       "array(['2600', '3DO', '3DS', 'DC', 'DS', 'GB', 'GBA', 'GC', 'GEN', 'GG',\n",
       "       'N64', 'NES', 'NG', 'PC', 'PCFX', 'PS', 'PS2', 'PS3', 'PS4', 'PSP',\n",
       "       'PSV', 'SAT', 'SCD', 'SNES', 'TG16', 'WS', 'Wii', 'WiiU', 'X360',\n",
       "       'XB', 'XOne'], dtype=object)"
      ]
     },
     "metadata": {},
     "output_type": "display_data"
    },
    {
     "data": {
      "text/plain": [
       "array(['Action', 'Adventure', 'Fighting', 'Misc', 'Platform', 'Puzzle',\n",
       "       'Racing', 'Role-Playing', 'Shooter', 'Simulation', 'Sports',\n",
       "       'Strategy'], dtype=object)"
      ]
     },
     "metadata": {},
     "output_type": "display_data"
    },
    {
     "data": {
      "text/plain": [
       "array(['AO', 'E', 'E10+', 'EC', 'K-A', 'M', 'RP', 'T', nan], dtype=object)"
      ]
     },
     "metadata": {},
     "output_type": "display_data"
    }
   ],
   "source": [
    "# в столбцах с небольшим количеством уникальных значений проверим дубликаты визуально\n",
    "display(data['platform'].sort_values().unique())\n",
    "display(data['genre'].sort_values().unique())\n",
    "display(data['rating'].sort_values().unique())"
   ]
  },
  {
   "cell_type": "markdown",
   "id": "6c095f04",
   "metadata": {},
   "source": [
    "Все значения выше - уникальные. \n",
    "\n",
    "Проработаем столбец с названиями игр."
   ]
  },
  {
   "cell_type": "code",
   "execution_count": 20,
   "id": "9328e556",
   "metadata": {},
   "outputs": [
    {
     "data": {
      "text/plain": [
       "need for speed: most wanted    12\n",
       "ratatouille                     9\n",
       "lego marvel super heroes        9\n",
       "fifa 14                         9\n",
       "madden nfl 07                   9\n",
       "Name: name, dtype: int64"
      ]
     },
     "execution_count": 20,
     "metadata": {},
     "output_type": "execute_result"
    }
   ],
   "source": [
    "data['name'].value_counts().head(5) #"
   ]
  },
  {
   "cell_type": "markdown",
   "id": "5ee0fd95",
   "metadata": {},
   "source": [
    "Вполне вероятно, что игры могли выходить на многих платформах или появляться римейки в разные годы на одних и тех же платформах, поэтому, например, выход need for speed: most wanted на 12 платформах не выглядит нереалистичным. Но для исключения вероятности наличия дубликатов выполним проверку по трем условиям: одинаковое название игры, платформы и года выпуска."
   ]
  },
  {
   "cell_type": "code",
   "execution_count": 21,
   "id": "da52072d",
   "metadata": {},
   "outputs": [
    {
     "data": {
      "text/html": [
       "<div>\n",
       "<style scoped>\n",
       "    .dataframe tbody tr th:only-of-type {\n",
       "        vertical-align: middle;\n",
       "    }\n",
       "\n",
       "    .dataframe tbody tr th {\n",
       "        vertical-align: top;\n",
       "    }\n",
       "\n",
       "    .dataframe thead th {\n",
       "        text-align: right;\n",
       "    }\n",
       "</style>\n",
       "<table border=\"1\" class=\"dataframe\">\n",
       "  <thead>\n",
       "    <tr style=\"text-align: right;\">\n",
       "      <th></th>\n",
       "      <th>name</th>\n",
       "      <th>platform</th>\n",
       "      <th>year_of_release</th>\n",
       "      <th>genre</th>\n",
       "      <th>na_sales</th>\n",
       "      <th>eu_sales</th>\n",
       "      <th>jp_sales</th>\n",
       "      <th>other_sales</th>\n",
       "      <th>critic_score</th>\n",
       "      <th>user_score</th>\n",
       "      <th>rating</th>\n",
       "      <th>total_sales</th>\n",
       "    </tr>\n",
       "  </thead>\n",
       "  <tbody>\n",
       "    <tr>\n",
       "      <th>604</th>\n",
       "      <td>madden nfl 13</td>\n",
       "      <td>PS3</td>\n",
       "      <td>2012</td>\n",
       "      <td>Sports</td>\n",
       "      <td>2.11</td>\n",
       "      <td>0.22</td>\n",
       "      <td>0.0</td>\n",
       "      <td>0.23</td>\n",
       "      <td>83.0</td>\n",
       "      <td>5.5</td>\n",
       "      <td>E</td>\n",
       "      <td>2.56</td>\n",
       "    </tr>\n",
       "    <tr>\n",
       "      <th>16230</th>\n",
       "      <td>madden nfl 13</td>\n",
       "      <td>PS3</td>\n",
       "      <td>2012</td>\n",
       "      <td>Sports</td>\n",
       "      <td>0.00</td>\n",
       "      <td>0.01</td>\n",
       "      <td>0.0</td>\n",
       "      <td>0.00</td>\n",
       "      <td>83.0</td>\n",
       "      <td>5.5</td>\n",
       "      <td>E</td>\n",
       "      <td>0.01</td>\n",
       "    </tr>\n",
       "  </tbody>\n",
       "</table>\n",
       "</div>"
      ],
      "text/plain": [
       "                name platform  year_of_release   genre  na_sales  eu_sales  \\\n",
       "604    madden nfl 13      PS3             2012  Sports      2.11      0.22   \n",
       "16230  madden nfl 13      PS3             2012  Sports      0.00      0.01   \n",
       "\n",
       "       jp_sales  other_sales  critic_score  user_score rating  total_sales  \n",
       "604         0.0         0.23          83.0         5.5      E         2.56  \n",
       "16230       0.0         0.00          83.0         5.5      E         0.01  "
      ]
     },
     "execution_count": 21,
     "metadata": {},
     "output_type": "execute_result"
    }
   ],
   "source": [
    "data[data.duplicated(['name','platform', 'year_of_release'],keep = False)].sort_values(by = 'name')"
   ]
  },
  {
   "cell_type": "markdown",
   "id": "831145d1",
   "metadata": {},
   "source": [
    "Найден единственный дубликат, удалим строку 16230 (выбираем ее, т.к. большая часть значений близка к 0)"
   ]
  },
  {
   "cell_type": "code",
   "execution_count": 22,
   "id": "839f2460",
   "metadata": {},
   "outputs": [
    {
     "data": {
      "text/html": [
       "<div>\n",
       "<style scoped>\n",
       "    .dataframe tbody tr th:only-of-type {\n",
       "        vertical-align: middle;\n",
       "    }\n",
       "\n",
       "    .dataframe tbody tr th {\n",
       "        vertical-align: top;\n",
       "    }\n",
       "\n",
       "    .dataframe thead th {\n",
       "        text-align: right;\n",
       "    }\n",
       "</style>\n",
       "<table border=\"1\" class=\"dataframe\">\n",
       "  <thead>\n",
       "    <tr style=\"text-align: right;\">\n",
       "      <th></th>\n",
       "      <th>name</th>\n",
       "      <th>platform</th>\n",
       "      <th>year_of_release</th>\n",
       "      <th>genre</th>\n",
       "      <th>na_sales</th>\n",
       "      <th>eu_sales</th>\n",
       "      <th>jp_sales</th>\n",
       "      <th>other_sales</th>\n",
       "      <th>critic_score</th>\n",
       "      <th>user_score</th>\n",
       "      <th>rating</th>\n",
       "      <th>total_sales</th>\n",
       "    </tr>\n",
       "  </thead>\n",
       "  <tbody>\n",
       "    <tr>\n",
       "      <th>16229</th>\n",
       "      <td>dr. slump &amp; arale-chan</td>\n",
       "      <td>DS</td>\n",
       "      <td>2008</td>\n",
       "      <td>Adventure</td>\n",
       "      <td>0.0</td>\n",
       "      <td>0.0</td>\n",
       "      <td>0.01</td>\n",
       "      <td>0.0</td>\n",
       "      <td>NaN</td>\n",
       "      <td>NaN</td>\n",
       "      <td>NaN</td>\n",
       "      <td>0.01</td>\n",
       "    </tr>\n",
       "    <tr>\n",
       "      <th>16231</th>\n",
       "      <td>umineko no naku koro ni portable 1</td>\n",
       "      <td>PSP</td>\n",
       "      <td>2011</td>\n",
       "      <td>Adventure</td>\n",
       "      <td>0.0</td>\n",
       "      <td>0.0</td>\n",
       "      <td>0.01</td>\n",
       "      <td>0.0</td>\n",
       "      <td>NaN</td>\n",
       "      <td>NaN</td>\n",
       "      <td>NaN</td>\n",
       "      <td>0.01</td>\n",
       "    </tr>\n",
       "    <tr>\n",
       "      <th>16232</th>\n",
       "      <td>festa!! hyper girls party</td>\n",
       "      <td>PS2</td>\n",
       "      <td>2006</td>\n",
       "      <td>Adventure</td>\n",
       "      <td>0.0</td>\n",
       "      <td>0.0</td>\n",
       "      <td>0.01</td>\n",
       "      <td>0.0</td>\n",
       "      <td>NaN</td>\n",
       "      <td>NaN</td>\n",
       "      <td>NaN</td>\n",
       "      <td>0.01</td>\n",
       "    </tr>\n",
       "    <tr>\n",
       "      <th>16233</th>\n",
       "      <td>geten no hana: yume akari</td>\n",
       "      <td>PSP</td>\n",
       "      <td>2014</td>\n",
       "      <td>Misc</td>\n",
       "      <td>0.0</td>\n",
       "      <td>0.0</td>\n",
       "      <td>0.01</td>\n",
       "      <td>0.0</td>\n",
       "      <td>NaN</td>\n",
       "      <td>NaN</td>\n",
       "      <td>NaN</td>\n",
       "      <td>0.01</td>\n",
       "    </tr>\n",
       "  </tbody>\n",
       "</table>\n",
       "</div>"
      ],
      "text/plain": [
       "                                     name platform  year_of_release  \\\n",
       "16229              dr. slump & arale-chan       DS             2008   \n",
       "16231  umineko no naku koro ni portable 1      PSP             2011   \n",
       "16232           festa!! hyper girls party      PS2             2006   \n",
       "16233           geten no hana: yume akari      PSP             2014   \n",
       "\n",
       "           genre  na_sales  eu_sales  jp_sales  other_sales  critic_score  \\\n",
       "16229  Adventure       0.0       0.0      0.01          0.0           NaN   \n",
       "16231  Adventure       0.0       0.0      0.01          0.0           NaN   \n",
       "16232  Adventure       0.0       0.0      0.01          0.0           NaN   \n",
       "16233       Misc       0.0       0.0      0.01          0.0           NaN   \n",
       "\n",
       "       user_score rating  total_sales  \n",
       "16229         NaN    NaN         0.01  \n",
       "16231         NaN    NaN         0.01  \n",
       "16232         NaN    NaN         0.01  \n",
       "16233         NaN    NaN         0.01  "
      ]
     },
     "execution_count": 22,
     "metadata": {},
     "output_type": "execute_result"
    }
   ],
   "source": [
    "data = data.drop(labels = [16230],axis = 0)\n",
    "    \n",
    "data[16227:16231] # проверка отсутствия строки"
   ]
  },
  {
   "cell_type": "code",
   "execution_count": 23,
   "id": "7ec9b763",
   "metadata": {},
   "outputs": [
    {
     "data": {
      "text/plain": [
       "False    16712\n",
       "dtype: int64"
      ]
     },
     "execution_count": 23,
     "metadata": {},
     "output_type": "execute_result"
    }
   ],
   "source": [
    "data.duplicated().value_counts() # поиск явных дубликтов"
   ]
  },
  {
   "cell_type": "markdown",
   "id": "5ba6e28a",
   "metadata": {},
   "source": [
    "## 2. Исследовательский анализ данных"
   ]
  },
  {
   "cell_type": "markdown",
   "id": "39d12726",
   "metadata": {},
   "source": [
    "### 2.1 Количество релизов игр по годам "
   ]
  },
  {
   "cell_type": "code",
   "execution_count": 24,
   "id": "545271dc",
   "metadata": {},
   "outputs": [
    {
     "data": {
      "image/png": "[encoded data removed]",
      "text/plain": [
       "<Figure size 1500x300 with 1 Axes>"
      ]
     },
     "metadata": {},
     "output_type": "display_data"
    }
   ],
   "source": [
    "data.groupby(['year_of_release']).agg(year=('year_of_release','count')).plot(\n",
    "    kind ='bar', figsize = (15,3), grid = True)\n",
    "\n",
    "plt.title('Количество релизов игр по годам') \n",
    "plt.xlabel('год')\n",
    "plt.ylabel('количество игр');"
   ]
  },
  {
   "cell_type": "markdown",
   "id": "622c2189",
   "metadata": {},
   "source": [
    "Пик выпуска игр пришелся на 2008-2009 годы. \n",
    "\n",
    "Наша цель - спланировать рекламные кампании на 2017-й год, сфера компьютерных игр динамично меняющаяся, поэтому данные за весь период 1980-2016 года рассматривать будет нецелесообразно."
   ]
  },
  {
   "cell_type": "markdown",
   "id": "45a538a1",
   "metadata": {},
   "source": [
    "### 2.2 Платформы с наибольшими суммарными продажами, изменение их  динамики продаж\n"
   ]
  },
  {
   "cell_type": "code",
   "execution_count": 25,
   "id": "fb3102c8",
   "metadata": {},
   "outputs": [
    {
     "name": "stdout",
     "output_type": "stream",
     "text": [
      "всего платформ: 31\n"
     ]
    },
    {
     "data": {
      "image/png": "[encoded data removed]",
      "text/plain": [
       "<Figure size 1500x500 with 1 Axes>"
      ]
     },
     "metadata": {},
     "output_type": "display_data"
    }
   ],
   "source": [
    "data.pivot_table(\n",
    "    index = ['platform'],  values = ['total_sales'], aggfunc = {'total_sales':'sum'}).sort_values(\n",
    "    by = 'total_sales', ascending = False).plot(\n",
    "    kind ='bar', figsize = (15,5), title = 'Сумма продаж по платформам в 1980-2016гг', legend = False, grid = True);\n",
    "plt.xlabel('платформа')\n",
    "plt.ylabel('сумма продаж');\n",
    "print('всего платформ:', len(data.platform.unique())) # количество платформ"
   ]
  },
  {
   "cell_type": "code",
   "execution_count": 26,
   "id": "b94d445d",
   "metadata": {},
   "outputs": [
    {
     "data": {
      "text/html": [
       "<div>\n",
       "<style scoped>\n",
       "    .dataframe tbody tr th:only-of-type {\n",
       "        vertical-align: middle;\n",
       "    }\n",
       "\n",
       "    .dataframe tbody tr th {\n",
       "        vertical-align: top;\n",
       "    }\n",
       "\n",
       "    .dataframe thead th {\n",
       "        text-align: right;\n",
       "    }\n",
       "</style>\n",
       "<table border=\"1\" class=\"dataframe\">\n",
       "  <thead>\n",
       "    <tr style=\"text-align: right;\">\n",
       "      <th></th>\n",
       "      <th>total_sales</th>\n",
       "    </tr>\n",
       "    <tr>\n",
       "      <th>platform</th>\n",
       "      <th></th>\n",
       "    </tr>\n",
       "  </thead>\n",
       "  <tbody>\n",
       "    <tr>\n",
       "      <th>PS2</th>\n",
       "      <td>1255.77</td>\n",
       "    </tr>\n",
       "    <tr>\n",
       "      <th>X360</th>\n",
       "      <td>971.42</td>\n",
       "    </tr>\n",
       "    <tr>\n",
       "      <th>PS3</th>\n",
       "      <td>939.64</td>\n",
       "    </tr>\n",
       "    <tr>\n",
       "      <th>Wii</th>\n",
       "      <td>907.51</td>\n",
       "    </tr>\n",
       "    <tr>\n",
       "      <th>DS</th>\n",
       "      <td>806.12</td>\n",
       "    </tr>\n",
       "  </tbody>\n",
       "</table>\n",
       "</div>"
      ],
      "text/plain": [
       "          total_sales\n",
       "platform             \n",
       "PS2           1255.77\n",
       "X360           971.42\n",
       "PS3            939.64\n",
       "Wii            907.51\n",
       "DS             806.12"
      ]
     },
     "execution_count": 26,
     "metadata": {},
     "output_type": "execute_result"
    }
   ],
   "source": [
    "# топ5 платформ за 1980-2016 года\n",
    "data.pivot_table(\n",
    "    index = ['platform'],  values = ['total_sales'], aggfunc = {'total_sales':'sum'}).sort_values(\n",
    "    by = 'total_sales', ascending = False).head(5)"
   ]
  },
  {
   "cell_type": "code",
   "execution_count": 27,
   "id": "3be37f8f",
   "metadata": {},
   "outputs": [],
   "source": [
    "top5_platforms = ['PS2', 'X360', 'PS3', 'Wii', 'DS']\n",
    "data_top5_platforms = data.query('platform in @top5_platforms')"
   ]
  },
  {
   "cell_type": "code",
   "execution_count": 28,
   "id": "41000442",
   "metadata": {},
   "outputs": [],
   "source": [
    "# при отображении графика ниже обнаружено одно выбивающееся ошибочное значение, заменим его на Nan\n",
    "data_top5_platforms.loc[(data_top5_platforms['platform'] == 'DS') & \n",
    "                        (data_top5_platforms['year_of_release'] == 1985), \n",
    "                        'year_of_release'] = data_top5_platforms.loc[data_top5_platforms['year_of_release']==\n",
    "                                                                     'nan','year_of_release']"
   ]
  },
  {
   "cell_type": "code",
   "execution_count": 29,
   "id": "47286d04",
   "metadata": {},
   "outputs": [
    {
     "data": {
      "image/png": "[encoded data removed]",
      "text/plain": [
       "<Figure size 1500x500 with 1 Axes>"
      ]
     },
     "metadata": {},
     "output_type": "display_data"
    }
   ],
   "source": [
    "data_top5_platforms.pivot_table(\n",
    "    index = ['year_of_release'], columns = 'platform',  values = ['total_sales'], aggfunc = {'total_sales':'sum'}).plot(\n",
    "    kind ='bar', figsize = (15,5), stacked=True,  grid = True,\n",
    "    title = 'Распределение продаж у топ5 платформ');\n",
    "plt.xlabel('год')\n",
    "plt.ylabel('сумма продаж, млн копий');"
   ]
  },
  {
   "cell_type": "markdown",
   "id": "a0e7122d",
   "metadata": {},
   "source": [
    "Для каждой из топ5 платформ хорошо видны примерно десятилетние \"циклы жизни\" со следующими трендами: от небольших объемов продаж в первый год появления платформы, роста популярности с последующим выходом на пик продаж к постепенному исчезновению. \n",
    "\n",
    "Это связано с появлением консолей нового поколения с более мощным железом, которое позволяет поддерживать все более и более технически сложные игры."
   ]
  },
  {
   "cell_type": "markdown",
   "id": "65e0b1b7",
   "metadata": {},
   "source": [
    "### 2.3 Выбор актуального периода для анализа\n",
    "\n",
    "\n",
    "Рынок компьютерных игры достаточно динамическая сфера, для глубокого анализа не имеет смысла брать в расчет неактуальные старые данные. Согласно графикам из пункта 2.2 - начиная с 2012 года количество выпускаемых игр выходит на плато в 500-600 игр в год, логично предположить интерполяцию данного тренда и на наш целевой период для прогноза - 2017г. \n",
    "\n",
    "Таким образом, в работу берем, как наиболее показательный, период 2012-2016гг."
   ]
  },
  {
   "cell_type": "code",
   "execution_count": 30,
   "id": "d49ad40f",
   "metadata": {},
   "outputs": [
    {
     "data": {
      "image/png": "[encoded data removed]",
      "text/plain": [
       "<Figure size 1500x300 with 1 Axes>"
      ]
     },
     "metadata": {},
     "output_type": "display_data"
    }
   ],
   "source": [
    "data.groupby(['year_of_release']).agg(year=('year_of_release','count')).plot(\n",
    "    kind ='bar', figsize = (15,3), grid = True)\n",
    "plt.title('Количество релизов игр по годам')\n",
    "plt.xlabel('год')\n",
    "plt.ylabel('количество игр');"
   ]
  },
  {
   "cell_type": "code",
   "execution_count": 31,
   "id": "8b494926",
   "metadata": {},
   "outputs": [
    {
     "data": {
      "image/png": "[encoded data removed]",
      "text/plain": [
       "<Figure size 1500x300 with 1 Axes>"
      ]
     },
     "metadata": {},
     "output_type": "display_data"
    }
   ],
   "source": [
    "# зум на последние 5 лет\n",
    "data_5year = data[data['year_of_release'] >= 2012]\n",
    "\n",
    "data_5year.groupby(['year_of_release']).agg(year=('year_of_release','count')).plot(\n",
    "    kind ='bar', figsize = (15,3), grid = True)\n",
    "plt.title('Количество релизов игр за 2012-2016гг')\n",
    "plt.xlabel('год')\n",
    "plt.ylabel('количество игр');"
   ]
  },
  {
   "cell_type": "markdown",
   "id": "da778101",
   "metadata": {},
   "source": [
    "### 2.4 Динамика продаж по платформам "
   ]
  },
  {
   "cell_type": "code",
   "execution_count": 32,
   "id": "ea44be1a",
   "metadata": {},
   "outputs": [
    {
     "data": {
      "image/png": "[encoded data removed]",
      "text/plain": [
       "<Figure size 1500x300 with 1 Axes>"
      ]
     },
     "metadata": {},
     "output_type": "display_data"
    }
   ],
   "source": [
    "sales_dynamic = data_5year.pivot_table(index = 'platform', columns = 'year_of_release', \n",
    "                       values = 'total_sales', aggfunc = {'total_sales':'sum'})\n",
    "sales_dynamic.sort_values(by = 2012).plot(\n",
    "    kind= 'barh', grid = True, stacked=True, figsize = (15,3));\n",
    "plt.title('Динамика продаж по платформам, 2012-2016гг') \n",
    "plt.xlabel('сумма продаж, млн копий')\n",
    "plt.ylabel('платформа');"
   ]
  },
  {
   "cell_type": "code",
   "execution_count": 33,
   "id": "6b6938b1",
   "metadata": {},
   "outputs": [
    {
     "data": {
      "image/png": "[encoded data removed]",
      "text/plain": [
       "<Figure size 1500x300 with 1 Axes>"
      ]
     },
     "metadata": {},
     "output_type": "display_data"
    }
   ],
   "source": [
    "# зум на 2016г\n",
    "sales_dynamic.sort_values(by = 2016, ascending = False)[2016].plot(\n",
    "    kind='bar',figsize = (15,3), grid = True, title = 'Продажи за 2016г');\n",
    "plt.xlabel('платформа')\n",
    "plt.ylabel('сумма продаж, млн копий');"
   ]
  },
  {
   "cell_type": "code",
   "execution_count": null,
   "id": "04726976",
   "metadata": {},
   "outputs": [],
   "source": [
    "top5 = ['PS4', 'PS3', 'X360', '3DS', 'XOne']\n",
    "data_5year_top = data_5year.query('platform in @top5')\n",
    "data_5year_top.pivot_table(index = 'year_of_release', columns = 'platform', \n",
    "                       values = 'total_sales', \n",
    "                        aggfunc = {'total_sales':'sum'}).plot(kind = 'area', figsize = (15,5), stacked = False, grid = True,\n",
    "                                                             xticks = (2012, 2013, 2014, 2015, 2016), style='o-');\n",
    "plt.title('Динамика продаж по топ5 платформам, 2012-2016гг')\n",
    "plt.xlabel('год')\n",
    "plt.ylabel('сумма продаж, млн копий');"
   ]
  },
  {
   "cell_type": "markdown",
   "id": "9e9cc442",
   "metadata": {},
   "source": [
    "По динамике количества продаж среди 11 платформ, которые выпускали игры в период 2012-2016, выделяются следующие особенности:\n",
    "* лидеры: PS4, PS3, X360\n",
    "* в течении анализируемого периода растут продажи у PS4 и XOne (c падением продаж в 2016г), остальные платформы имеют постоянный тренд на снижение количества продаж\n",
    "* наиболее потенциально прибыльные платформы - PS4 и XOne\n"
   ]
  },
  {
   "cell_type": "markdown",
   "id": "26b7d3bd",
   "metadata": {},
   "source": [
    "### 2.5 Глобальные продажи игр в разбивке по платформам\n"
   ]
  },
  {
   "cell_type": "code",
   "execution_count": null,
   "id": "00e68d14",
   "metadata": {},
   "outputs": [],
   "source": [
    "data_5year.boxplot(column='total_sales', by = 'platform', figsize = (15,7));\n",
    "plt.title('Продажи игр в 2012-2016гг в разбивке по платформам')\n",
    "plt.xlabel('Платформа')\n",
    "plt.ylabel('сумма продаж, млн копий')\n",
    "plt.suptitle('');"
   ]
  },
  {
   "cell_type": "markdown",
   "id": "ea540b6c",
   "metadata": {},
   "source": [
    "Некоторые игры являются суперхитами и имеют продажи болеет 5млн копий. Для презентативной оценки продаж по платформам изменим масштаб для оси y."
   ]
  },
  {
   "cell_type": "code",
   "execution_count": null,
   "id": "4cfc45cd",
   "metadata": {},
   "outputs": [],
   "source": [
    "data_5year.boxplot(column='total_sales', by = 'platform', figsize = (15,7))\n",
    "plt.title('Продажи игр в 2012-2016гг в разбивке по платформам')\n",
    "plt.xlabel('Платформа')\n",
    "plt.ylabel('сумма продаж, млн копий')\n",
    "plt.suptitle('')\n",
    "plt.ylim(0, 2);"
   ]
  },
  {
   "cell_type": "markdown",
   "id": "616ee1b7",
   "metadata": {},
   "source": [
    "График «ящик с усами» по глобальным продажам игр в разбивке по платформам показывает:\n",
    "* есть несколько платформ, на которых выходили суперхиты с более 5млн продаж (3DS, PS3, PS4, Xbox360)\n",
    "* по медианным продажам лидирует Xbox360, его же \"ящик\" является самым большим, немного отстает PS4\n",
    "* самые скромные показатели у PSP и PSV"
   ]
  },
  {
   "cell_type": "markdown",
   "id": "72b351b0",
   "metadata": {},
   "source": [
    "### 2.6 Влияние отзывов пользователей и критиков на продажи одной из платформ "
   ]
  },
  {
   "cell_type": "code",
   "execution_count": null,
   "id": "3ba3ef56",
   "metadata": {},
   "outputs": [],
   "source": [
    "ps3_data_5year = data_5year[data_5year['platform'] == 'PS3']\n",
    "ps3_data_5year.plot(kind='scatter',\n",
    "        y='critic_score' , x='total_sales', figsize=(10,4), c = 'b', s = 4)\n",
    "plt.title('Диаграмма рассеяния — Рейтинг критиков — Количество продаж')\n",
    "plt.xlabel('кол-во продаж, млн копий')\n",
    "plt.ylabel('рейтинг критиков');\n",
    "\n",
    "round(ps3_data_5year['total_sales'].corr(ps3_data_5year['critic_score']),3) # определим коэффициент корреляции"
   ]
  },
  {
   "cell_type": "code",
   "execution_count": null,
   "id": "d02b9dbd",
   "metadata": {},
   "outputs": [],
   "source": [
    "ps3_data_5year.plot(kind='scatter',\n",
    "        y='user_score' , x='total_sales', figsize=(10,4), c = 'b', s = 4)\n",
    "plt.title('Диаграмма рассеяния — Рейтинг пользователей — Количество продаж')\n",
    "plt.xlabel('кол-во продаж, млн копий')\n",
    "plt.ylabel('рейтинг пользователей');\n",
    "\n",
    "round(ps3_data_5year['total_sales'].corr(ps3_data_5year['user_score']),3) # определим коэффициент корреляции"
   ]
  },
  {
   "cell_type": "code",
   "execution_count": null,
   "id": "667556c5",
   "metadata": {},
   "outputs": [],
   "source": [
    "# зум на значениях менее 1млн продаж\n",
    "ps3_data_5year['total_sales'].hist(figsize=(15,3), bins = 21, range = (0,1));\n",
    "ps3_data_5year['total_sales'].describe()"
   ]
  },
  {
   "cell_type": "markdown",
   "id": "f6eeb2c5",
   "metadata": {},
   "source": [
    "Линейная корреляция между отзывами пользователей и критиков на продажи платформы PS3 отсутствует. \n",
    "\n",
    "Почти все игры на PS3 имеют количество продаж до 1млн копий\n",
    "\n",
    "Вероятными причинами отсутствия корреляции могут быть:\n",
    "* субъективные оценки пользователей, более объективной величиной оценки качества игры может быть как раз уровень продаж\n",
    "* малое количество оценок пользователей, поэтому полученный рейтинг может быть не очень показательным\n",
    "\n"
   ]
  },
  {
   "cell_type": "markdown",
   "id": "8560e82a",
   "metadata": {},
   "source": [
    "### 2.7 Влияние отзывов пользователей и критиков на продажи всех платформ "
   ]
  },
  {
   "cell_type": "code",
   "execution_count": null,
   "id": "a9a3fe79",
   "metadata": {},
   "outputs": [],
   "source": [
    "data_5year.plot(kind='scatter',\n",
    "        y='critic_score' , x='total_sales', figsize=(10,4), c = 'b', s = 4, alpha = 0.5)\n",
    "plt.title('Диаграмма рассеяния — Рейтинг критиков — Количество продаж')\n",
    "plt.xlabel('кол-во продаж, млн копий')\n",
    "plt.ylabel('рейтинг критиков');\n",
    "\n",
    "round(data_5year['total_sales'].corr(data_5year['critic_score']),3) # определим коэффициент корреляции"
   ]
  },
  {
   "cell_type": "code",
   "execution_count": null,
   "id": "113d215b",
   "metadata": {},
   "outputs": [],
   "source": [
    "data_5year.plot(kind='scatter',\n",
    "        y='user_score' , x='total_sales', figsize=(10,4), c = 'b', s = 4)\n",
    "plt.title('Диаграмма рассеяния — Рейтинг пользователей — Количество продаж')\n",
    "plt.xlabel('кол-во продаж, млн копий')\n",
    "plt.ylabel('рейтинг критиков');\n",
    "\n",
    "round(data_5year['total_sales'].corr(data_5year['user_score']),3) # определим коэффициент корреляции"
   ]
  },
  {
   "cell_type": "markdown",
   "id": "39c2e406",
   "metadata": {},
   "source": [
    "Для всех платформ, характерны особенности, описанные для PS3 - отсутствие корреляции между данными параметрами."
   ]
  },
  {
   "cell_type": "markdown",
   "id": "64497826",
   "metadata": {},
   "source": [
    "### 2.8 Распределение игр по жанрам: самые прибыльные"
   ]
  },
  {
   "cell_type": "code",
   "execution_count": null,
   "id": "c2d69241",
   "metadata": {},
   "outputs": [],
   "source": [
    "data_5year.pivot_table(index = 'genre', values = 'total_sales',  # расчет метрик по прибыльности жанров\n",
    "                       aggfunc = {'total_sales': ['sum','median', 'mean','count']}).sort_values(by = 'median', ascending= False)"
   ]
  },
  {
   "cell_type": "markdown",
   "id": "bf967440",
   "metadata": {},
   "source": [
    "Больше всего продаж имеет жанр экшн, но в тоже время этот жанр имеет и наибольшее количество релизов.\n",
    "\n",
    "Более репрезентативной метрикой является медианные продажи. Топ3 прибыльных жанра: Shooter (лидер), Sports и Platform."
   ]
  },
  {
   "cell_type": "markdown",
   "id": "bf3bd091",
   "metadata": {},
   "source": [
    "## 3. Составление портрета пользователя каждого региона"
   ]
  },
  {
   "cell_type": "markdown",
   "id": "e82d1ed7",
   "metadata": {},
   "source": [
    "### 3.1 Самые популярные платформы в NA, EU, JP (топ-5)"
   ]
  },
  {
   "cell_type": "code",
   "execution_count": null,
   "id": "b07aa9cc",
   "metadata": {},
   "outputs": [],
   "source": [
    "na_platforms = data_5year.pivot_table(index = 'platform', values = 'na_sales', aggfunc = {'na_sales':'sum'}).sort_values(\n",
    "    by = 'na_sales', ascending = False)\n",
    "na_platforms['fraction'] = round(na_platforms['na_sales'] / data_5year.na_sales.sum(), 2)\n",
    "na_platforms.head(5).plot(kind = 'pie', y='na_sales', legend = False);\n",
    "plt.title('Доля продаж по платформам в Северной Америке') \n",
    "plt.ylabel('');\n",
    "na_platforms.head(5)"
   ]
  },
  {
   "cell_type": "code",
   "execution_count": null,
   "id": "35f89a73",
   "metadata": {},
   "outputs": [],
   "source": [
    "eu_platforms = data_5year.pivot_table(index = 'platform', values = 'eu_sales', aggfunc = {'eu_sales':'sum'}).sort_values(\n",
    "    by = 'eu_sales', ascending = False)\n",
    "eu_platforms['fraction'] = round(eu_platforms['eu_sales'] / data_5year.eu_sales.sum(), 2)\n",
    "\n",
    "eu_platforms.head(5).plot(kind = 'pie', y='eu_sales',legend = False);\n",
    "plt.title('Доля продаж по платформам в Европе') \n",
    "plt.ylabel('');\n",
    "eu_platforms.head(5)"
   ]
  },
  {
   "cell_type": "code",
   "execution_count": null,
   "id": "7cfaa4df",
   "metadata": {},
   "outputs": [],
   "source": [
    "jp_platforms = data_5year.pivot_table(index = 'platform', values = 'jp_sales', aggfunc = {'jp_sales':'sum'}).sort_values(\n",
    "    by = 'jp_sales', ascending = False)\n",
    "jp_platforms['fraction'] = round(jp_platforms['jp_sales'] / data_5year.jp_sales.sum(), 2)\n",
    "\n",
    "jp_platforms.head(5).plot(kind = 'pie', y='jp_sales',legend = False);\n",
    "plt.title('Доля продаж по платформам в Японии') \n",
    "plt.ylabel('');\n",
    "jp_platforms.head(5)"
   ]
  },
  {
   "cell_type": "markdown",
   "id": "52a8fb0a",
   "metadata": {},
   "source": [
    "В топ5 по регионам попали 7 разных платформ.\n",
    "\n",
    "В Северной Америке и Европе 3/4 рынка занимают большие консоли Sony и Xbox - X360, PS4, PS3, XOne. 8-9% покупают игры на портативной консоли 3DS. Лидером в Северной Америке является американский X360 (0.24), в Европе - японская PS4(0.28). \n",
    "\n",
    "В Японии видим совсем другой тренд, другая \"культура потребления\" игр, большинство пользователей помимо упомянутой 3DS, покупают игры на PSV и WiiU - 0.64 пользователей используют портативные приставки. Также интересный момент - японцы не жалуют отсутствующий в топ5 американской Xbox, в отличии от отечественных Sony PS3 и PS4."
   ]
  },
  {
   "cell_type": "markdown",
   "id": "ed1b3668",
   "metadata": {},
   "source": [
    "### 3.2 Самые популярные жанры в NA, EU, JP (топ-5)\n"
   ]
  },
  {
   "cell_type": "code",
   "execution_count": null,
   "id": "f2a50b0a",
   "metadata": {},
   "outputs": [],
   "source": [
    "na_genres = data_5year.pivot_table(index = 'genre', values = 'na_sales', \n",
    "                       aggfunc = {'na_sales':'sum'}).sort_values(by = 'na_sales', ascending= False)\n",
    "na_genres['fraction'] = round(na_genres['na_sales'] / data_5year.na_sales.sum(), 2)\n",
    "na_genres.head(5).plot(kind = 'pie', y='na_sales', legend = False);\n",
    "plt.title('Доля продаж по жанрам игр в Северной Америке')\n",
    "plt.ylabel('');\n",
    "na_genres.head(5)\n"
   ]
  },
  {
   "cell_type": "code",
   "execution_count": null,
   "id": "27cc3ba0",
   "metadata": {},
   "outputs": [],
   "source": [
    "eu_genres = data_5year.pivot_table(index = 'genre', values = 'eu_sales', \n",
    "                       aggfunc = {'eu_sales':'sum'}).sort_values(by = 'eu_sales', ascending= False)\n",
    "eu_genres['fraction'] = round(eu_genres['eu_sales'] / data_5year.eu_sales.sum(), 2)\n",
    "eu_genres.head(5).plot(kind = 'pie', y='eu_sales', legend = False);\n",
    "plt.title('Доля продаж по жанрам игр в Европе') \n",
    "plt.ylabel('');\n",
    "eu_genres.head(5)"
   ]
  },
  {
   "cell_type": "code",
   "execution_count": null,
   "id": "6e62fe33",
   "metadata": {},
   "outputs": [],
   "source": [
    "jp_genres = data_5year.pivot_table(index = 'genre', values = 'jp_sales', \n",
    "                       aggfunc = {'jp_sales':'sum'}).sort_values(by = 'jp_sales', ascending= False)\n",
    "jp_genres['fraction'] = round(jp_genres['jp_sales'] / data_5year.jp_sales.sum(), 2)\n",
    "jp_genres.head(5).plot(kind = 'pie', y='jp_sales', legend = False);\n",
    "plt.title('Доля продаж по жанрам игр в Японии')\n",
    "plt.ylabel('');\n",
    "jp_genres.head(5)"
   ]
  },
  {
   "cell_type": "markdown",
   "id": "96a435e3",
   "metadata": {},
   "source": [
    "Первые 4 позиции в рейтинге жанров в Европе и Северной Америке идентичны - около 0.8 доли рынка занимают в порядке от самого популярного:  Action, Shooter, Sports, Role-Playing.\n",
    "\n",
    "Япония и здесь выделяется 0.34 доли рынка занимает Role-Playing, а популярных европейских и американских жанров Shooter, Sports в японском топ5 нет.\n"
   ]
  },
  {
   "cell_type": "markdown",
   "id": "64cf4d1e",
   "metadata": {},
   "source": [
    "### 3.3 Влияние рейтинга ESRB на продажи в отдельных регионах"
   ]
  },
  {
   "cell_type": "markdown",
   "id": "63458381",
   "metadata": {},
   "source": [
    "При анализе мы держим в голове, что порядка 40% данных исходного массива не имеют информации по установленному рейтингу ESRB. Проверим, сколько пропусков в 2012-2016гг"
   ]
  },
  {
   "cell_type": "code",
   "execution_count": null,
   "id": "31b8f6ca",
   "metadata": {},
   "outputs": [],
   "source": [
    "round(data_5year.rating.isna().sum()/data_5year.rating.isna().count(), 2) # кол-во пропусков в 2012-2016гг"
   ]
  },
  {
   "cell_type": "code",
   "execution_count": null,
   "id": "8ca2f0e6",
   "metadata": {},
   "outputs": [],
   "source": [
    "round(data_5year.total_sales.sum(),1) # всего продаж за 2012-2016гг"
   ]
  },
  {
   "cell_type": "code",
   "execution_count": null,
   "id": "ce549180",
   "metadata": {},
   "outputs": [],
   "source": [
    "# доля продаж за 2012-2016гг без пропущенных данных по рейтингу ESRB\n",
    "round((data_5year.total_sales.sum() - \n",
    "       data_5year.loc[data_5year['rating'].isna(), 'total_sales'].sum()) / data_5year.total_sales.sum(), 2)"
   ]
  },
  {
   "cell_type": "markdown",
   "id": "5c603b18",
   "metadata": {},
   "source": [
    "Значимая часть данных имеет информацию по рейтингу ESRB"
   ]
  },
  {
   "cell_type": "code",
   "execution_count": null,
   "id": "0ee2e94c",
   "metadata": {},
   "outputs": [],
   "source": [
    "ESRB = data_5year.groupby('rating').agg(Nort_America=('na_sales','sum'))\n",
    "ESRB['Europe'] = data_5year.groupby('rating').agg(Europe=('eu_sales','sum'))\n",
    "ESRB['Japan'] = data_5year.groupby('rating').agg(Japan=('jp_sales','sum'))\n",
    "\n",
    "ESRB = ESRB.T\n",
    "ESRB.plot(kind = 'bar', grid = True,  figsize = (15,5));\n",
    "plt.xlabel('регион')\n",
    "plt.ylabel('кол-во продаж, млн копий');\n",
    "plt.title('Рейтинг ESRB и продажи в отдельных регионах')\n",
    "\n",
    "ESRB"
   ]
  },
  {
   "cell_type": "markdown",
   "id": "67088b1b",
   "metadata": {},
   "source": [
    "В Северной Америке и Европе лидируют продаж игр с рейтингом М (17+ лет).\n",
    "\n",
    "В Японии же продажа игр примерно одинаково распределяется между рейтингами Е(0+), Т(13+) и М(17+).\n",
    "\n",
    "Можно сделать предположение, что игра с рейтингом 17+ (М) наверняка будет более успешна в Европе и Америке, нежели чем в Японии.\n",
    "\n",
    "Вероятно это может быть связано с тем, что большая часть пользователей в мире - дети и подростки, а в Японии более строгие правила продаж игр, чем в других регионах, что не позволяет японцам широко использовать игры категории М. Так же вполне возможно, что доля детей, которые играют в компьютерные игры, значительно выше в Японии, чем в других регионах."
   ]
  },
  {
   "cell_type": "markdown",
   "id": "5845f436",
   "metadata": {},
   "source": [
    "## 4. Проверка гипотез\n",
    "\n"
   ]
  },
  {
   "cell_type": "markdown",
   "id": "98e3d5c1",
   "metadata": {},
   "source": [
    "Сформулируем и проверим следующие гипотезы:"
   ]
  },
  {
   "cell_type": "markdown",
   "id": "e492e83d",
   "metadata": {},
   "source": [
    "### 4.1 Гипотеза 1"
   ]
  },
  {
   "cell_type": "markdown",
   "id": "efa4b0e2",
   "metadata": {},
   "source": [
    "H0 - cредние пользовательские рейтинги платформ Xbox One и PC одинаковые\n",
    "\n",
    "H1 - cредние пользовательские рейтинги платформ Xbox One и PC разные"
   ]
  },
  {
   "cell_type": "code",
   "execution_count": null,
   "id": "f056809c",
   "metadata": {},
   "outputs": [],
   "source": [
    "xone_user_score = data_5year.query('platform == \"XOne\"')['user_score'].dropna()\n",
    "pc_user_score = data_5year.query('platform == \"PC\"')['user_score'].dropna()\n",
    "\n",
    "alpha = 0.05 \n",
    "\n",
    "results = st.ttest_ind(xone_user_score, pc_user_score)\n",
    "\n",
    "print('p-значение:', results.pvalue)\n",
    "\n",
    "if results.pvalue < alpha:\n",
    "    print('Отвергаем нулевую гипотезу')\n",
    "else:\n",
    "    print('Не получилось отвергнуть нулевую гипотезу') "
   ]
  },
  {
   "cell_type": "markdown",
   "id": "5d7552bf",
   "metadata": {},
   "source": [
    "### 4.2 Гипотеза 2"
   ]
  },
  {
   "cell_type": "markdown",
   "id": "eec054d9",
   "metadata": {},
   "source": [
    "H0 - средние пользовательские рейтинги жанров Action и Sports одинаковые\n",
    "\n",
    "H1 - средние пользовательские рейтинги жанров Action и Sports разные"
   ]
  },
  {
   "cell_type": "code",
   "execution_count": null,
   "id": "5f8e874f",
   "metadata": {},
   "outputs": [],
   "source": [
    "action_score = data_5year.query('genre == \"Action\"')['user_score'].dropna()\n",
    "sports_score = data_5year.query('genre == \"Sports\"')['user_score'].dropna()\n",
    "\n",
    "alpha = 0.05\n",
    "\n",
    "results = st.ttest_ind(action_score, sports_score, equal_var = False)\n",
    "\n",
    "print('p-значение:', results.pvalue)\n",
    "\n",
    "if results.pvalue < alpha:                               \n",
    "    print('Отвергаем нулевую гипотезу')\n",
    "else:\n",
    "    print('Не получилось отвергнуть нулевую гипотезу') "
   ]
  },
  {
   "cell_type": "markdown",
   "id": "ecfffdf0",
   "metadata": {},
   "source": [
    "Критерий для проверки гипотез  - критерий Стьюдента, который чаще всего применяется для проверки равенства средних значений в двух выборках. Cтат. значимость выбрана равной 0.05, как достаточная для чувствительности исследуемого параметра. \n",
    "\n",
    "Большое значение p-value в первой гипотезе, которое не позволило отвергнуть нулевую гипотезу, может говорить нам о том, что средние рейтинги платформ Xbox One и PC достаточно близки. Это может быть вызвано выходом одних и тех же игр на этих платформах с близким уровнем качества, что обусловило и схожий пользовательский рейтинг.\n",
    "\n",
    "С помощью т-теста мы опровергаем гипотезу о равенстве пользовательских рейтингов жанров Action и Sports в пользу альтернативной гипотезы, согласно которой средние рейтинги этих жанров разные."
   ]
  },
  {
   "cell_type": "markdown",
   "id": "1bd708e1",
   "metadata": {},
   "source": [
    "## Выводы\n",
    "\n",
    "Проведена аналитическая работа с данными продажах компьютерных игр: выполнена предобработка данных, выбран период для исследований, изучен ряд параметров, зависимости между ними, а также проверено несколько гипотез.\n",
    "\n",
    "**В ходе предобработки данных было выполнено:** \n",
    "1. Приведение названий столбцов к нижнему регистру\n",
    "2. Преобразование типов данных в столбцах годом релиза игр и пользовательским рейтингом\n",
    "3. Удаление строк с пропусками, которые невозможно восстановить и использовать в анализе данных\n",
    "4. Удаление неявных дубликатов\n",
    "\n",
    "\n",
    "**В ходе исследования параметров за 1980-2016гг, выявлены следующие особенности:**\n",
    "* Пик выпуска игр пришелся на конец нулевых годов 21 века\n",
    "* Больше всего продано игр на PS2\n",
    "* \"Цикл жизни» платформы с большим объемом продаж – около 10 лет\n",
    "\n",
    "**Проанализировав количество релизов игр по годам, был выбран интервал для нашего исследования: 2012-2016 года**\n",
    "\n",
    "* Наиболее потенциально прибыльные платформы на текущий день - PS4 и XOne, их прошлые версии PS3 и X360 теряют популярность\n",
    "* По медианным продажам лидирует Xbox360, немного отстает PS4\n",
    "* Установлено, что для платформы PS3 нет зависимости между продажами и такими показателями как рейтингом пользователей и отзывы критиков. Аналогичная ситуация и для остальных общей выборки из всех платформ \n",
    "* Наиболее прибыльный жанр - шутер\n",
    "\n",
    "\n",
    "**Составлен портрет пользователя для трех регионов:**\n",
    "* Пользователи из Европы и Северной Америки предпочитают покупать игры на большие консоли Sony и Xbox: раньше это были X360 и PS3, сейчас фокус смещается на XOne и PS4. Американцы предпочитают свой продукт от Microsoft, европейцы – Sony. Играют и европейцы, и американцы в основном в  Action, Shooter, Sports, Role-Playing, которые занимают 80% от общих продаж. В Северной Америке и Европе лидируют продажи игр с рейтингом М (17+ лет)\n",
    "* 64% пользователей из Японии используют портативные приставки: 3DS, PSV, WiiU, около 26% рынка у Sony: PS3 и PS4. Из популярных жанров в Европе и Северной Америке у японцев - экшн, а самый же популярный жанр - Role-Playing. В Японии же продажа игр примерно одинаково распределяется между рейтингами Е(0+), Т(13+) и М(17+)\n",
    "\n",
    "\n",
    "**Проверены следующие гипотезы:**\n",
    "1.\tСредние пользовательские рейтинги платформ Xbox One и PC одинаковые - нулевая гипотеза \"cредние пользовательские рейтинги платформ Xbox One и PC одинаковые\" не отвергнута\n",
    "2.\tСредние пользовательские рейтинги жанров Action и Sports разные - нулевая гипотеза \"средние пользовательские рейтинги жанров Action и Sports одинаковые\" отвергнута\n"
   ]
  }
 ],
 "metadata": {
  "ExecuteTimeLog": [
   {
    "duration": 1348,
    "start_time": "2023-04-30T17:02:12.858Z"
   },
   {
    "duration": 229,
    "start_time": "2023-04-30T17:02:14.211Z"
   },
   {
    "duration": 0,
    "start_time": "2023-04-30T17:02:14.444Z"
   },
   {
    "duration": 0,
    "start_time": "2023-04-30T17:02:14.446Z"
   },
   {
    "duration": 0,
    "start_time": "2023-04-30T17:02:14.448Z"
   },
   {
    "duration": 0,
    "start_time": "2023-04-30T17:02:14.449Z"
   },
   {
    "duration": 0,
    "start_time": "2023-04-30T17:02:14.451Z"
   },
   {
    "duration": 0,
    "start_time": "2023-04-30T17:02:14.451Z"
   },
   {
    "duration": 0,
    "start_time": "2023-04-30T17:02:14.453Z"
   },
   {
    "duration": 0,
    "start_time": "2023-04-30T17:02:14.454Z"
   },
   {
    "duration": 0,
    "start_time": "2023-04-30T17:02:14.456Z"
   },
   {
    "duration": 0,
    "start_time": "2023-04-30T17:02:14.457Z"
   },
   {
    "duration": 0,
    "start_time": "2023-04-30T17:02:14.459Z"
   },
   {
    "duration": 0,
    "start_time": "2023-04-30T17:02:14.460Z"
   },
   {
    "duration": 0,
    "start_time": "2023-04-30T17:02:14.483Z"
   },
   {
    "duration": 0,
    "start_time": "2023-04-30T17:02:14.485Z"
   },
   {
    "duration": 0,
    "start_time": "2023-04-30T17:02:14.487Z"
   },
   {
    "duration": 0,
    "start_time": "2023-04-30T17:02:14.489Z"
   },
   {
    "duration": 0,
    "start_time": "2023-04-30T17:02:14.491Z"
   },
   {
    "duration": 0,
    "start_time": "2023-04-30T17:02:14.492Z"
   },
   {
    "duration": 0,
    "start_time": "2023-04-30T17:02:14.493Z"
   },
   {
    "duration": 0,
    "start_time": "2023-04-30T17:02:14.495Z"
   },
   {
    "duration": 0,
    "start_time": "2023-04-30T17:02:14.497Z"
   },
   {
    "duration": 0,
    "start_time": "2023-04-30T17:02:14.498Z"
   },
   {
    "duration": 0,
    "start_time": "2023-04-30T17:02:14.501Z"
   },
   {
    "duration": 0,
    "start_time": "2023-04-30T17:02:14.502Z"
   },
   {
    "duration": 0,
    "start_time": "2023-04-30T17:02:14.504Z"
   },
   {
    "duration": 0,
    "start_time": "2023-04-30T17:02:14.505Z"
   },
   {
    "duration": 0,
    "start_time": "2023-04-30T17:02:14.506Z"
   },
   {
    "duration": 0,
    "start_time": "2023-04-30T17:02:14.508Z"
   },
   {
    "duration": 0,
    "start_time": "2023-04-30T17:02:14.511Z"
   },
   {
    "duration": 0,
    "start_time": "2023-04-30T17:02:14.512Z"
   },
   {
    "duration": 0,
    "start_time": "2023-04-30T17:02:14.514Z"
   },
   {
    "duration": 93,
    "start_time": "2023-04-30T17:02:29.486Z"
   },
   {
    "duration": 19,
    "start_time": "2023-04-30T17:02:31.835Z"
   },
   {
    "duration": 15,
    "start_time": "2023-04-30T17:02:32.000Z"
   },
   {
    "duration": 11,
    "start_time": "2023-04-30T17:02:32.681Z"
   },
   {
    "duration": 15,
    "start_time": "2023-04-30T17:02:33.435Z"
   },
   {
    "duration": 10,
    "start_time": "2023-04-30T17:02:33.785Z"
   },
   {
    "duration": 157,
    "start_time": "2023-04-30T17:02:34.152Z"
   },
   {
    "duration": 10,
    "start_time": "2023-04-30T17:02:34.520Z"
   },
   {
    "duration": 5,
    "start_time": "2023-04-30T17:02:35.256Z"
   },
   {
    "duration": 192,
    "start_time": "2023-04-30T17:02:35.419Z"
   },
   {
    "duration": 27,
    "start_time": "2023-04-30T17:02:35.768Z"
   },
   {
    "duration": 8,
    "start_time": "2023-04-30T17:02:35.951Z"
   },
   {
    "duration": 171,
    "start_time": "2023-04-30T17:02:36.338Z"
   },
   {
    "duration": 6,
    "start_time": "2023-04-30T17:02:39.034Z"
   },
   {
    "duration": 15,
    "start_time": "2023-04-30T17:02:39.403Z"
   },
   {
    "duration": 341,
    "start_time": "2023-04-30T17:02:40.169Z"
   },
   {
    "duration": 320,
    "start_time": "2023-04-30T17:02:40.977Z"
   },
   {
    "duration": 14,
    "start_time": "2023-04-30T17:02:41.299Z"
   },
   {
    "duration": 7,
    "start_time": "2023-04-30T17:02:41.367Z"
   },
   {
    "duration": 7,
    "start_time": "2023-04-30T17:02:41.552Z"
   },
   {
    "duration": 405,
    "start_time": "2023-04-30T17:02:41.736Z"
   },
   {
    "duration": 408,
    "start_time": "2023-04-30T17:02:42.696Z"
   },
   {
    "duration": 153,
    "start_time": "2023-04-30T17:02:43.106Z"
   },
   {
    "duration": 304,
    "start_time": "2023-04-30T17:02:43.494Z"
   },
   {
    "duration": 205,
    "start_time": "2023-04-30T17:02:43.809Z"
   },
   {
    "duration": 258,
    "start_time": "2023-04-30T17:02:44.017Z"
   },
   {
    "duration": 23,
    "start_time": "2023-04-30T17:02:45.036Z"
   },
   {
    "duration": 125,
    "start_time": "2023-04-30T17:02:45.291Z"
   },
   {
    "duration": 152,
    "start_time": "2023-04-30T17:02:46.403Z"
   },
   {
    "duration": 145,
    "start_time": "2023-04-30T17:02:46.586Z"
   },
   {
    "duration": 147,
    "start_time": "2023-04-30T17:02:46.801Z"
   },
   {
    "duration": 9,
    "start_time": "2023-04-30T17:02:47.692Z"
   },
   {
    "duration": 219,
    "start_time": "2023-04-30T17:02:48.391Z"
   },
   {
    "duration": 145,
    "start_time": "2023-04-30T17:02:50.072Z"
   },
   {
    "duration": 10,
    "start_time": "2023-04-30T17:02:56.779Z"
   },
   {
    "duration": 6,
    "start_time": "2023-04-30T17:03:21.026Z"
   },
   {
    "duration": 38,
    "start_time": "2023-04-30T17:03:26.064Z"
   },
   {
    "duration": 32,
    "start_time": "2023-04-30T17:03:28.870Z"
   },
   {
    "duration": 5,
    "start_time": "2023-04-30T17:03:53.241Z"
   },
   {
    "duration": 178,
    "start_time": "2023-04-30T17:03:54.871Z"
   }
  ],
  "kernelspec": {
   "display_name": "Python 3 (ipykernel)",
   "language": "python",
   "name": "python3"
  },
  "language_info": {
   "codemirror_mode": {
    "name": "ipython",
    "version": 3
   },
   "file_extension": ".py",
   "mimetype": "text/x-python",
   "name": "python",
   "nbconvert_exporter": "python",
   "pygments_lexer": "ipython3",
   "version": "3.9.13"
  },
  "toc": {
   "base_numbering": 1,
   "nav_menu": {},
   "number_sections": true,
   "sideBar": true,
   "skip_h1_title": true,
   "title_cell": "Table of Contents",
   "title_sidebar": "Contents",
   "toc_cell": false,
   "toc_position": {},
   "toc_section_display": true,
   "toc_window_display": false
  }
 },
 "nbformat": 4,
 "nbformat_minor": 5
}
