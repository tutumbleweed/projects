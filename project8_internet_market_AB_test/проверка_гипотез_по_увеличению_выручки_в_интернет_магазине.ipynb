{
 "cells": [
  {
   "cell_type": "markdown",
   "id": "226c0da0",
   "metadata": {},
   "source": [
    "# Анализ данных А/B теста, проведенного крупным интернет-магазином с целью увеличения выручки"
   ]
  },
  {
   "cell_type": "markdown",
   "id": "ff732d28",
   "metadata": {},
   "source": [
    "## Введение\n",
    "\n",
    "Для проекта представлены данные A/B-теста, проведенного крупным интернет-магазином. Заказчик предпочел не публиковать суть тестируемой гипотезы.\n",
    "\n",
    "Тест проходил на протяжении месяца - августа 2019г. Пользователи поделены на две группы - А и В.\n",
    "\n",
    "\n",
    "Цель работы - проанализировать результаты проведенного A/B-теста: как в разных группах ведут себя показатели среднего чека и среднего количества заказов. На основе полученных результатов сделать выводы об успешности теста, стоит ли его продолжать или остановить.\n",
    "\n",
    "Описание входных данных:\n",
    "\n",
    "* orders.csv, visitors.csv - в файлах описаны результаты проведенного A/B-теста, информация о заказах и посетителях, разделенных на 2 группы\n",
    "\n",
    "План работы:\n",
    "\n",
    "* Провести предобработку данных\n",
    "* Выполнить анализ графиков с разбивкой по группам, которые характеризуют изменения кумулятивной выручки, кумулятивного среднего чека, среднего количества заказов на посетителя, стоимостей заказов\n",
    "* Определить выбивающиеся значения стоимости заказов и количества заказов на одного пользователя, которые использовать в дальнейшем для фильтрации данных\n",
    "\n",
    "Проверить нулевые и альтернативные гипотезы, выполнить расчет статистической значимости различий:\n",
    "* Нулевая гипотеза: различий в среднем количестве заказов на посетителя между группами нет. Альтернативная: различия в среднем между группами есть.\n",
    "* Нулевая гипотеза: различий в среднем чеке между группами нет. Альтернативная: различия в среднем чеке между группами есть.\n",
    "\n",
    "Рассчитать статистическую значимость для следующих вариантов данных: \n",
    "* сырых\n",
    "* фильтрованных от выбросов\n",
    "* сырых с исключением пользователей, попавших в обе группы данных\n",
    "* фильтрованных от выбросов и исключением пользователей, попавших в обе группы данных\n",
    "\n",
    "Сделать выводы об успешности теста и целесообразности его остановки/продолжения\n"
   ]
  },
  {
   "cell_type": "markdown",
   "id": "112d1921",
   "metadata": {},
   "source": [
    "## Загрузка данных и подготовка их к анализу"
   ]
  },
  {
   "cell_type": "code",
   "execution_count": 1,
   "id": "de8ec667",
   "metadata": {},
   "outputs": [],
   "source": [
    "# импорт необходимых библиотек\n",
    "import pandas as pd\n",
    "import numpy as np\n",
    "import matplotlib.pyplot as plt\n",
    "import scipy.stats as stats\n",
    "import datetime as dt\n",
    "import warnings"
   ]
  },
  {
   "cell_type": "code",
   "execution_count": 2,
   "id": "942b5393",
   "metadata": {},
   "outputs": [],
   "source": [
    "# импорт данных\n",
    "orders = pd.read_csv(\n",
    "    'C:/DataAnalysis/initial_data/project_8/orders.csv') \n",
    "visitors = pd.read_csv(\n",
    "    'C:/DataAnalysis/initial_data/project_8/visitors.csv')"
   ]
  },
  {
   "cell_type": "code",
   "execution_count": 3,
   "id": "bbdd8458",
   "metadata": {},
   "outputs": [
    {
     "name": "stdout",
     "output_type": "stream",
     "text": [
      "<class 'pandas.core.frame.DataFrame'>\n",
      "RangeIndex: 1197 entries, 0 to 1196\n",
      "Data columns (total 5 columns):\n",
      " #   Column         Non-Null Count  Dtype \n",
      "---  ------         --------------  ----- \n",
      " 0   transactionId  1197 non-null   int64 \n",
      " 1   visitorId      1197 non-null   int64 \n",
      " 2   date           1197 non-null   object\n",
      " 3   revenue        1197 non-null   int64 \n",
      " 4   group          1197 non-null   object\n",
      "dtypes: int64(3), object(2)\n",
      "memory usage: 46.9+ KB\n"
     ]
    },
    {
     "data": {
      "text/plain": [
       "None"
      ]
     },
     "metadata": {},
     "output_type": "display_data"
    },
    {
     "data": {
      "text/html": [
       "<div>\n",
       "<style scoped>\n",
       "    .dataframe tbody tr th:only-of-type {\n",
       "        vertical-align: middle;\n",
       "    }\n",
       "\n",
       "    .dataframe tbody tr th {\n",
       "        vertical-align: top;\n",
       "    }\n",
       "\n",
       "    .dataframe thead th {\n",
       "        text-align: right;\n",
       "    }\n",
       "</style>\n",
       "<table border=\"1\" class=\"dataframe\">\n",
       "  <thead>\n",
       "    <tr style=\"text-align: right;\">\n",
       "      <th></th>\n",
       "      <th>transactionId</th>\n",
       "      <th>visitorId</th>\n",
       "      <th>date</th>\n",
       "      <th>revenue</th>\n",
       "      <th>group</th>\n",
       "    </tr>\n",
       "  </thead>\n",
       "  <tbody>\n",
       "    <tr>\n",
       "      <th>0</th>\n",
       "      <td>3667963787</td>\n",
       "      <td>3312258926</td>\n",
       "      <td>2019-08-15</td>\n",
       "      <td>1650</td>\n",
       "      <td>B</td>\n",
       "    </tr>\n",
       "    <tr>\n",
       "      <th>1</th>\n",
       "      <td>2804400009</td>\n",
       "      <td>3642806036</td>\n",
       "      <td>2019-08-15</td>\n",
       "      <td>730</td>\n",
       "      <td>B</td>\n",
       "    </tr>\n",
       "    <tr>\n",
       "      <th>2</th>\n",
       "      <td>2961555356</td>\n",
       "      <td>4069496402</td>\n",
       "      <td>2019-08-15</td>\n",
       "      <td>400</td>\n",
       "      <td>A</td>\n",
       "    </tr>\n",
       "    <tr>\n",
       "      <th>3</th>\n",
       "      <td>3797467345</td>\n",
       "      <td>1196621759</td>\n",
       "      <td>2019-08-15</td>\n",
       "      <td>9759</td>\n",
       "      <td>B</td>\n",
       "    </tr>\n",
       "    <tr>\n",
       "      <th>4</th>\n",
       "      <td>2282983706</td>\n",
       "      <td>2322279887</td>\n",
       "      <td>2019-08-15</td>\n",
       "      <td>2308</td>\n",
       "      <td>B</td>\n",
       "    </tr>\n",
       "  </tbody>\n",
       "</table>\n",
       "</div>"
      ],
      "text/plain": [
       "   transactionId   visitorId        date  revenue group\n",
       "0     3667963787  3312258926  2019-08-15     1650     B\n",
       "1     2804400009  3642806036  2019-08-15      730     B\n",
       "2     2961555356  4069496402  2019-08-15      400     A\n",
       "3     3797467345  1196621759  2019-08-15     9759     B\n",
       "4     2282983706  2322279887  2019-08-15     2308     B"
      ]
     },
     "metadata": {},
     "output_type": "display_data"
    }
   ],
   "source": [
    "display(orders.info())\n",
    "display(orders.head());"
   ]
  },
  {
   "cell_type": "code",
   "execution_count": 4,
   "id": "bd4c19c5",
   "metadata": {},
   "outputs": [
    {
     "name": "stdout",
     "output_type": "stream",
     "text": [
      "<class 'pandas.core.frame.DataFrame'>\n",
      "RangeIndex: 62 entries, 0 to 61\n",
      "Data columns (total 3 columns):\n",
      " #   Column    Non-Null Count  Dtype \n",
      "---  ------    --------------  ----- \n",
      " 0   date      62 non-null     object\n",
      " 1   group     62 non-null     object\n",
      " 2   visitors  62 non-null     int64 \n",
      "dtypes: int64(1), object(2)\n",
      "memory usage: 1.6+ KB\n"
     ]
    },
    {
     "data": {
      "text/plain": [
       "None"
      ]
     },
     "metadata": {},
     "output_type": "display_data"
    },
    {
     "data": {
      "text/html": [
       "<div>\n",
       "<style scoped>\n",
       "    .dataframe tbody tr th:only-of-type {\n",
       "        vertical-align: middle;\n",
       "    }\n",
       "\n",
       "    .dataframe tbody tr th {\n",
       "        vertical-align: top;\n",
       "    }\n",
       "\n",
       "    .dataframe thead th {\n",
       "        text-align: right;\n",
       "    }\n",
       "</style>\n",
       "<table border=\"1\" class=\"dataframe\">\n",
       "  <thead>\n",
       "    <tr style=\"text-align: right;\">\n",
       "      <th></th>\n",
       "      <th>date</th>\n",
       "      <th>group</th>\n",
       "      <th>visitors</th>\n",
       "    </tr>\n",
       "  </thead>\n",
       "  <tbody>\n",
       "    <tr>\n",
       "      <th>0</th>\n",
       "      <td>2019-08-01</td>\n",
       "      <td>A</td>\n",
       "      <td>719</td>\n",
       "    </tr>\n",
       "    <tr>\n",
       "      <th>1</th>\n",
       "      <td>2019-08-02</td>\n",
       "      <td>A</td>\n",
       "      <td>619</td>\n",
       "    </tr>\n",
       "    <tr>\n",
       "      <th>2</th>\n",
       "      <td>2019-08-03</td>\n",
       "      <td>A</td>\n",
       "      <td>507</td>\n",
       "    </tr>\n",
       "    <tr>\n",
       "      <th>3</th>\n",
       "      <td>2019-08-04</td>\n",
       "      <td>A</td>\n",
       "      <td>717</td>\n",
       "    </tr>\n",
       "    <tr>\n",
       "      <th>4</th>\n",
       "      <td>2019-08-05</td>\n",
       "      <td>A</td>\n",
       "      <td>756</td>\n",
       "    </tr>\n",
       "  </tbody>\n",
       "</table>\n",
       "</div>"
      ],
      "text/plain": [
       "         date group  visitors\n",
       "0  2019-08-01     A       719\n",
       "1  2019-08-02     A       619\n",
       "2  2019-08-03     A       507\n",
       "3  2019-08-04     A       717\n",
       "4  2019-08-05     A       756"
      ]
     },
     "metadata": {},
     "output_type": "display_data"
    }
   ],
   "source": [
    "display(visitors.info())\n",
    "display(visitors.head())"
   ]
  },
  {
   "cell_type": "markdown",
   "id": "bc0f0c5f",
   "metadata": {},
   "source": [
    "Столбцам, отвечающим за дату необходимо изменить тип данных с object на datetime"
   ]
  },
  {
   "cell_type": "markdown",
   "id": "e84d41a6",
   "metadata": {},
   "source": [
    "## 1. Предобработка данных и подготовка их к анализу"
   ]
  },
  {
   "cell_type": "markdown",
   "id": "52e21a34",
   "metadata": {},
   "source": [
    "### 1.1. Преобразование типов данных в столбцах"
   ]
  },
  {
   "cell_type": "code",
   "execution_count": 5,
   "id": "bb4ba2e7",
   "metadata": {},
   "outputs": [],
   "source": [
    "# преобразование столбцов дат в нужный формат\n",
    "orders['date'] = orders['date'].map(lambda x: dt.datetime.strptime(x, '%Y-%m-%d'))\n",
    "visitors['date'] = visitors['date'].map(lambda x: dt.datetime.strptime(x, '%Y-%m-%d'))"
   ]
  },
  {
   "cell_type": "markdown",
   "id": "64dd8149",
   "metadata": {},
   "source": [
    "### 1.2. Определение временного промежутка исследования"
   ]
  },
  {
   "cell_type": "code",
   "execution_count": 6,
   "id": "0a960b8e",
   "metadata": {},
   "outputs": [
    {
     "name": "stdout",
     "output_type": "stream",
     "text": [
      "1й заказ: 2019-08-01, последний заказ: 2019-08-31\n",
      "1й посетитель: 2019-08-01, последний посетитель: 2019-08-31\n"
     ]
    }
   ],
   "source": [
    "print(f'1й заказ: {orders[\"date\"].min().date()}, последний заказ: {orders[\"date\"].max().date()}') \n",
    "print(f'1й посетитель: {visitors[\"date\"].min().date()}, последний посетитель: {visitors[\"date\"].max().date()}') "
   ]
  },
  {
   "cell_type": "markdown",
   "id": "498ac941",
   "metadata": {},
   "source": [
    "### 1.3. Обработка пропусков"
   ]
  },
  {
   "cell_type": "code",
   "execution_count": 7,
   "id": "84313448",
   "metadata": {},
   "outputs": [
    {
     "data": {
      "text/plain": [
       "transactionId    0\n",
       "visitorId        0\n",
       "date             0\n",
       "revenue          0\n",
       "group            0\n",
       "dtype: int64"
      ]
     },
     "metadata": {},
     "output_type": "display_data"
    },
    {
     "data": {
      "text/plain": [
       "date        0\n",
       "group       0\n",
       "visitors    0\n",
       "dtype: int64"
      ]
     },
     "metadata": {},
     "output_type": "display_data"
    }
   ],
   "source": [
    "display(orders.isna().sum().sort_values(ascending=False))\n",
    "display(visitors.isna().sum().sort_values(ascending=False))"
   ]
  },
  {
   "cell_type": "markdown",
   "id": "cba04cbf",
   "metadata": {},
   "source": [
    "Пропуски в данных отсутствуют"
   ]
  },
  {
   "cell_type": "markdown",
   "id": "1b33961a",
   "metadata": {},
   "source": [
    "### 1.4. Обработка дубликатов"
   ]
  },
  {
   "cell_type": "code",
   "execution_count": 8,
   "id": "5fc22286",
   "metadata": {},
   "outputs": [
    {
     "data": {
      "text/plain": [
       "False    1197\n",
       "dtype: int64"
      ]
     },
     "metadata": {},
     "output_type": "display_data"
    },
    {
     "data": {
      "text/plain": [
       "False    62\n",
       "dtype: int64"
      ]
     },
     "metadata": {},
     "output_type": "display_data"
    }
   ],
   "source": [
    "# поиск явных дубликатов\n",
    "display(orders.duplicated().value_counts())\n",
    "display(visitors.duplicated().value_counts())"
   ]
  },
  {
   "cell_type": "markdown",
   "id": "8f408d9a",
   "metadata": {},
   "source": [
    "Явных дубликатов в данных нет. Проверим, корректно ли агрегированы посетители по дням - нет ли нескольких строк, которые относятся к одному дню и одной группе \n"
   ]
  },
  {
   "cell_type": "code",
   "execution_count": 9,
   "id": "468db43d",
   "metadata": {},
   "outputs": [
    {
     "data": {
      "text/plain": [
       "False    62\n",
       "dtype: int64"
      ]
     },
     "execution_count": 9,
     "metadata": {},
     "output_type": "execute_result"
    }
   ],
   "source": [
    "visitors[['date','group']].duplicated().value_counts()"
   ]
  },
  {
   "cell_type": "markdown",
   "id": "2cabca2c",
   "metadata": {},
   "source": [
    "### 1.5. Проверка входных параметров А/В теста"
   ]
  },
  {
   "cell_type": "markdown",
   "id": "f923eb3c",
   "metadata": {},
   "source": [
    "##### Условие: попавший в одну из групп посетитель остаётся в этой группе до конца теста\n",
    "\n",
    "Проверка, есть ли пользователи, которые на протяжении исследования входили не только в одну группу"
   ]
  },
  {
   "cell_type": "code",
   "execution_count": 10,
   "id": "dde84b74",
   "metadata": {},
   "outputs": [
    {
     "name": "stdout",
     "output_type": "stream",
     "text": [
      "Общее число пользователей А/В теста: 1089\n",
      "Общее число пользователей, попавших в обе группы: 58\n"
     ]
    }
   ],
   "source": [
    "# отображение уникальных пар \"пользователь-группа\"\n",
    "unique_visitors = orders[['group','visitorId']].drop_duplicates()\n",
    "print(f'Общее число пользователей А/В теста: {unique_visitors[\"visitorId\"].count()}')\n",
    "\n",
    "# поиск пользователей, чье имя встречается и для группы А, и для группы В\n",
    "double_users = unique_visitors['visitorId'].value_counts() \n",
    "double_users = double_users[double_users>1]\n",
    "\n",
    "print(f'Общее число пользователей, попавших в обе группы: {double_users.count()}')"
   ]
  },
  {
   "cell_type": "markdown",
   "id": "ae7cd1e7",
   "metadata": {},
   "source": [
    "Согласно данным выше, имеем 58 пользователей, которые попали в обе группы.\n",
    "\n",
    "При дальнейшей оценке различных показателей будем рассматривать их в разрезе полного количества пользователей и удаления \"дублеров\""
   ]
  },
  {
   "cell_type": "code",
   "execution_count": 11,
   "id": "df7cfbc6",
   "metadata": {},
   "outputs": [
    {
     "name": "stdout",
     "output_type": "stream",
     "text": [
      "transactionId    181\n",
      "visitorId        181\n",
      "date             181\n",
      "revenue          181\n",
      "group            181\n",
      "dtype: int64\n"
     ]
    }
   ],
   "source": [
    "# оставим в double_users только номера пользователей и создадим список с номерами\n",
    "double_users = double_users.reset_index()\n",
    "double_users = double_users[['index']]\n",
    "double_users_list = double_users['index'].tolist()\n",
    "\n",
    "# оставим серию только с номерами пользователей\n",
    "double_users = double_users.reset_index()\n",
    "double_users = double_users['index']\n",
    "\n",
    "# отфильтруем датафрейм с заказами, исключая пользователей, входящих в обе группы \n",
    "orders_cut = orders.query('visitorId not in @double_users_list')\n",
    "\n",
    "# посчитаем, как изменилось количество строк после удаления операций дублеров \n",
    "print(orders.count() - orders_cut.count())\n"
   ]
  },
  {
   "cell_type": "markdown",
   "id": "981dc143",
   "metadata": {},
   "source": [
    "В результате фильтрации удалена 181 строка. Таким образом, имеем 58 удаленных пользователей, которые совершили 181 транзакцию.\n",
    "\n",
    "Отобразим для ознакомления первые 10 строк, которые были удалены.\n",
    "\n"
   ]
  },
  {
   "cell_type": "code",
   "execution_count": 12,
   "id": "6e5bb42a",
   "metadata": {},
   "outputs": [
    {
     "data": {
      "text/html": [
       "<div>\n",
       "<style scoped>\n",
       "    .dataframe tbody tr th:only-of-type {\n",
       "        vertical-align: middle;\n",
       "    }\n",
       "\n",
       "    .dataframe tbody tr th {\n",
       "        vertical-align: top;\n",
       "    }\n",
       "\n",
       "    .dataframe thead th {\n",
       "        text-align: right;\n",
       "    }\n",
       "</style>\n",
       "<table border=\"1\" class=\"dataframe\">\n",
       "  <thead>\n",
       "    <tr style=\"text-align: right;\">\n",
       "      <th></th>\n",
       "      <th>transactionId</th>\n",
       "      <th>visitorId</th>\n",
       "      <th>date</th>\n",
       "      <th>revenue</th>\n",
       "      <th>group</th>\n",
       "    </tr>\n",
       "  </thead>\n",
       "  <tbody>\n",
       "    <tr>\n",
       "      <th>703</th>\n",
       "      <td>4293855558</td>\n",
       "      <td>8300375</td>\n",
       "      <td>2019-08-07</td>\n",
       "      <td>1790</td>\n",
       "      <td>A</td>\n",
       "    </tr>\n",
       "    <tr>\n",
       "      <th>71</th>\n",
       "      <td>3679129301</td>\n",
       "      <td>8300375</td>\n",
       "      <td>2019-08-01</td>\n",
       "      <td>10510</td>\n",
       "      <td>B</td>\n",
       "    </tr>\n",
       "    <tr>\n",
       "      <th>823</th>\n",
       "      <td>2971973105</td>\n",
       "      <td>199603092</td>\n",
       "      <td>2019-08-27</td>\n",
       "      <td>2790</td>\n",
       "      <td>A</td>\n",
       "    </tr>\n",
       "    <tr>\n",
       "      <th>246</th>\n",
       "      <td>437656952</td>\n",
       "      <td>199603092</td>\n",
       "      <td>2019-08-02</td>\n",
       "      <td>3488</td>\n",
       "      <td>B</td>\n",
       "    </tr>\n",
       "    <tr>\n",
       "      <th>26</th>\n",
       "      <td>2223239646</td>\n",
       "      <td>199603092</td>\n",
       "      <td>2019-08-15</td>\n",
       "      <td>3488</td>\n",
       "      <td>A</td>\n",
       "    </tr>\n",
       "    <tr>\n",
       "      <th>134</th>\n",
       "      <td>62794304</td>\n",
       "      <td>199603092</td>\n",
       "      <td>2019-08-22</td>\n",
       "      <td>6976</td>\n",
       "      <td>A</td>\n",
       "    </tr>\n",
       "    <tr>\n",
       "      <th>1102</th>\n",
       "      <td>1941707234</td>\n",
       "      <td>199603092</td>\n",
       "      <td>2019-08-12</td>\n",
       "      <td>6438</td>\n",
       "      <td>A</td>\n",
       "    </tr>\n",
       "    <tr>\n",
       "      <th>1009</th>\n",
       "      <td>2670069237</td>\n",
       "      <td>232979603</td>\n",
       "      <td>2019-08-31</td>\n",
       "      <td>2640</td>\n",
       "      <td>B</td>\n",
       "    </tr>\n",
       "    <tr>\n",
       "      <th>1013</th>\n",
       "      <td>83566152</td>\n",
       "      <td>232979603</td>\n",
       "      <td>2019-08-31</td>\n",
       "      <td>60</td>\n",
       "      <td>A</td>\n",
       "    </tr>\n",
       "    <tr>\n",
       "      <th>590</th>\n",
       "      <td>3702128013</td>\n",
       "      <td>237748145</td>\n",
       "      <td>2019-08-20</td>\n",
       "      <td>1290</td>\n",
       "      <td>A</td>\n",
       "    </tr>\n",
       "  </tbody>\n",
       "</table>\n",
       "</div>"
      ],
      "text/plain": [
       "      transactionId  visitorId       date  revenue group\n",
       "703      4293855558    8300375 2019-08-07     1790     A\n",
       "71       3679129301    8300375 2019-08-01    10510     B\n",
       "823      2971973105  199603092 2019-08-27     2790     A\n",
       "246       437656952  199603092 2019-08-02     3488     B\n",
       "26       2223239646  199603092 2019-08-15     3488     A\n",
       "134        62794304  199603092 2019-08-22     6976     A\n",
       "1102     1941707234  199603092 2019-08-12     6438     A\n",
       "1009     2670069237  232979603 2019-08-31     2640     B\n",
       "1013       83566152  232979603 2019-08-31       60     A\n",
       "590      3702128013  237748145 2019-08-20     1290     A"
      ]
     },
     "execution_count": 12,
     "metadata": {},
     "output_type": "execute_result"
    }
   ],
   "source": [
    "orders.query('visitorId in @double_users_list').sort_values(by = 'visitorId').head(10)"
   ]
  },
  {
   "cell_type": "markdown",
   "id": "500e8231",
   "metadata": {},
   "source": [
    "## 2. Анализ A/B-теста"
   ]
  },
  {
   "cell_type": "markdown",
   "id": "add1376f",
   "metadata": {},
   "source": [
    "### 2.1 График кумулятивной выручки по группам"
   ]
  },
  {
   "cell_type": "markdown",
   "id": "8ffa23e7",
   "metadata": {},
   "source": [
    "**Работа с датафреймом без фильтрации пользователей, попавших в обе группы**"
   ]
  },
  {
   "cell_type": "markdown",
   "id": "4f65720d",
   "metadata": {},
   "source": [
    "Сформируем общий датафрейм с разбивкой по датам-группам, указанием кол-ва уникальных покупателей, уникальных операций и суммы выручки, а также общего числа посетителей"
   ]
  },
  {
   "cell_type": "code",
   "execution_count": 13,
   "id": "2fc121f3",
   "metadata": {},
   "outputs": [
    {
     "data": {
      "text/html": [
       "<div>\n",
       "<style scoped>\n",
       "    .dataframe tbody tr th:only-of-type {\n",
       "        vertical-align: middle;\n",
       "    }\n",
       "\n",
       "    .dataframe tbody tr th {\n",
       "        vertical-align: top;\n",
       "    }\n",
       "\n",
       "    .dataframe thead th {\n",
       "        text-align: right;\n",
       "    }\n",
       "</style>\n",
       "<table border=\"1\" class=\"dataframe\">\n",
       "  <thead>\n",
       "    <tr style=\"text-align: right;\">\n",
       "      <th></th>\n",
       "      <th>group</th>\n",
       "      <th>date</th>\n",
       "      <th>revenue</th>\n",
       "      <th>transactionId</th>\n",
       "      <th>visitorId</th>\n",
       "    </tr>\n",
       "  </thead>\n",
       "  <tbody>\n",
       "    <tr>\n",
       "      <th>0</th>\n",
       "      <td>A</td>\n",
       "      <td>2019-08-01</td>\n",
       "      <td>148579</td>\n",
       "      <td>24</td>\n",
       "      <td>20</td>\n",
       "    </tr>\n",
       "    <tr>\n",
       "      <th>1</th>\n",
       "      <td>A</td>\n",
       "      <td>2019-08-02</td>\n",
       "      <td>93822</td>\n",
       "      <td>20</td>\n",
       "      <td>19</td>\n",
       "    </tr>\n",
       "    <tr>\n",
       "      <th>2</th>\n",
       "      <td>A</td>\n",
       "      <td>2019-08-03</td>\n",
       "      <td>112473</td>\n",
       "      <td>24</td>\n",
       "      <td>24</td>\n",
       "    </tr>\n",
       "    <tr>\n",
       "      <th>3</th>\n",
       "      <td>A</td>\n",
       "      <td>2019-08-04</td>\n",
       "      <td>70825</td>\n",
       "      <td>16</td>\n",
       "      <td>15</td>\n",
       "    </tr>\n",
       "    <tr>\n",
       "      <th>4</th>\n",
       "      <td>A</td>\n",
       "      <td>2019-08-05</td>\n",
       "      <td>124218</td>\n",
       "      <td>25</td>\n",
       "      <td>25</td>\n",
       "    </tr>\n",
       "  </tbody>\n",
       "</table>\n",
       "</div>"
      ],
      "text/plain": [
       "  group       date  revenue  transactionId  visitorId\n",
       "0     A 2019-08-01   148579             24         20\n",
       "1     A 2019-08-02    93822             20         19\n",
       "2     A 2019-08-03   112473             24         24\n",
       "3     A 2019-08-04    70825             16         15\n",
       "4     A 2019-08-05   124218             25         25"
      ]
     },
     "execution_count": 13,
     "metadata": {},
     "output_type": "execute_result"
    }
   ],
   "source": [
    "# агрегация данных по дням-группам из таблицы orders\n",
    "orders_aggregated = orders.pivot_table(index = {'date','group'}, values = {'transactionId','visitorId', 'revenue'},\\\n",
    "                                       aggfunc = {'transactionId' : 'nunique', 'visitorId' : 'nunique', 'revenue' : 'sum'})\n",
    "orders_aggregated = orders_aggregated.reset_index()\n",
    "orders_aggregated.head(5)"
   ]
  },
  {
   "cell_type": "code",
   "execution_count": 14,
   "id": "836348ed",
   "metadata": {},
   "outputs": [
    {
     "data": {
      "text/html": [
       "<div>\n",
       "<style scoped>\n",
       "    .dataframe tbody tr th:only-of-type {\n",
       "        vertical-align: middle;\n",
       "    }\n",
       "\n",
       "    .dataframe tbody tr th {\n",
       "        vertical-align: top;\n",
       "    }\n",
       "\n",
       "    .dataframe thead th {\n",
       "        text-align: right;\n",
       "    }\n",
       "</style>\n",
       "<table border=\"1\" class=\"dataframe\">\n",
       "  <thead>\n",
       "    <tr style=\"text-align: right;\">\n",
       "      <th></th>\n",
       "      <th>date</th>\n",
       "      <th>group</th>\n",
       "      <th>revenue</th>\n",
       "      <th>orders</th>\n",
       "      <th>buyers</th>\n",
       "      <th>visitors</th>\n",
       "    </tr>\n",
       "  </thead>\n",
       "  <tbody>\n",
       "    <tr>\n",
       "      <th>0</th>\n",
       "      <td>A</td>\n",
       "      <td>2019-08-01</td>\n",
       "      <td>148579</td>\n",
       "      <td>24</td>\n",
       "      <td>20</td>\n",
       "      <td>719</td>\n",
       "    </tr>\n",
       "    <tr>\n",
       "      <th>1</th>\n",
       "      <td>A</td>\n",
       "      <td>2019-08-02</td>\n",
       "      <td>93822</td>\n",
       "      <td>20</td>\n",
       "      <td>19</td>\n",
       "      <td>619</td>\n",
       "    </tr>\n",
       "    <tr>\n",
       "      <th>2</th>\n",
       "      <td>A</td>\n",
       "      <td>2019-08-03</td>\n",
       "      <td>112473</td>\n",
       "      <td>24</td>\n",
       "      <td>24</td>\n",
       "      <td>507</td>\n",
       "    </tr>\n",
       "    <tr>\n",
       "      <th>3</th>\n",
       "      <td>A</td>\n",
       "      <td>2019-08-04</td>\n",
       "      <td>70825</td>\n",
       "      <td>16</td>\n",
       "      <td>15</td>\n",
       "      <td>717</td>\n",
       "    </tr>\n",
       "    <tr>\n",
       "      <th>4</th>\n",
       "      <td>A</td>\n",
       "      <td>2019-08-05</td>\n",
       "      <td>124218</td>\n",
       "      <td>25</td>\n",
       "      <td>25</td>\n",
       "      <td>756</td>\n",
       "    </tr>\n",
       "  </tbody>\n",
       "</table>\n",
       "</div>"
      ],
      "text/plain": [
       "  date      group  revenue  orders  buyers  visitors\n",
       "0    A 2019-08-01   148579      24      20       719\n",
       "1    A 2019-08-02    93822      20      19       619\n",
       "2    A 2019-08-03   112473      24      24       507\n",
       "3    A 2019-08-04    70825      16      15       717\n",
       "4    A 2019-08-05   124218      25      25       756"
      ]
     },
     "execution_count": 14,
     "metadata": {},
     "output_type": "execute_result"
    }
   ],
   "source": [
    "# слияние orders_aggregated и таблицы visitors\n",
    "cumulative_data = orders_aggregated.merge(visitors, left_on=['date', 'group'], right_on=['date', 'group'])\n",
    "\n",
    "cumulative_data.columns = ['date', 'group', 'revenue', 'orders', 'buyers', 'visitors']\n",
    "cumulative_data.head()"
   ]
  },
  {
   "cell_type": "code",
   "execution_count": 15,
   "id": "7913b56b",
   "metadata": {},
   "outputs": [
    {
     "data": {
      "image/png": "[encoded data removed]",
      "text/plain": [
       "<Figure size 1500x600 with 1 Axes>"
      ]
     },
     "metadata": {},
     "output_type": "display_data"
    }
   ],
   "source": [
    "cumulative_data_A = cumulative_data[cumulative_data['group']=='A'][['date','revenue', 'orders']]\n",
    "cumulative_data_B = cumulative_data[cumulative_data['group']=='B'][['date','revenue', 'orders']]\n",
    "\n",
    "# преобразуем серии с суммой выручки и заказов в накопленную сумму\n",
    "cumulative_data_A[['revenue', 'orders']] = cumulative_data_A[['revenue', 'orders']].apply(lambda x: x.cumsum(), axis=0) \n",
    "cumulative_data_B[['revenue', 'orders']] = cumulative_data_B[['revenue', 'orders']].apply(lambda x: x.cumsum(), axis=0) \n",
    "\n",
    "plt.figure(figsize=(15, 6))\n",
    "plt.plot(cumulative_data_A['date'], cumulative_data_A['revenue'], label='A')\n",
    "plt.plot(cumulative_data_B['date'], cumulative_data_B['revenue'], label='B')\n",
    "\n",
    "plt.xlabel('Дата')\n",
    "plt.ylabel('Выручка')\n",
    "plt.legend()\n",
    "plt.title('Кумулятивная выручка по группам'); "
   ]
  },
  {
   "cell_type": "markdown",
   "id": "5c77a929",
   "metadata": {},
   "source": [
    "**Работа с датафреймом с фильтрации пользователей, попавших в обе группы**"
   ]
  },
  {
   "cell_type": "code",
   "execution_count": 16,
   "id": "5d4d110a",
   "metadata": {
    "scrolled": false
   },
   "outputs": [
    {
     "data": {
      "image/png": "[encoded data removed]",
      "text/plain": [
       "<Figure size 1500x600 with 1 Axes>"
      ]
     },
     "metadata": {},
     "output_type": "display_data"
    }
   ],
   "source": [
    "# агрегация данных по дням-группам из таблицы orders\n",
    "orders_cut_aggregated = orders_cut.pivot_table(index = {'date','group'}, values = {'transactionId','visitorId', 'revenue'},\\\n",
    "                                       aggfunc = {'transactionId' : 'nunique', 'visitorId' : 'nunique', 'revenue' : 'sum'})\n",
    "orders_cut_aggregated = orders_cut_aggregated.reset_index()\n",
    "\n",
    "# слияние orders_aggregated и таблицы visitors\n",
    "cumulative_data_cut = orders_cut_aggregated.merge(visitors, left_on=['date', 'group'], right_on=['date', 'group'])\n",
    "\n",
    "cumulative_data_cut.columns = ['date', 'group', 'revenue', 'orders', 'buyers', 'visitors']\n",
    "cumulative_data_cut.head()\n",
    "\n",
    "cumulative_data_A_cut = cumulative_data_cut[cumulative_data_cut['group']=='A'][['date','revenue', 'orders']]\n",
    "cumulative_data_B_cut = cumulative_data_cut[cumulative_data_cut['group']=='B'][['date','revenue', 'orders']]\n",
    "\n",
    "# преобразуем серии с суммой выручки и заказов в накопленную сумму\n",
    "cumulative_data_A_cut[['revenue', 'orders']] = cumulative_data_A_cut[['revenue', 'orders']].apply(lambda x: x.cumsum(), axis=0) \n",
    "cumulative_data_B_cut[['revenue', 'orders']] = cumulative_data_B_cut[['revenue', 'orders']].apply(lambda x: x.cumsum(), axis=0) \n",
    "\n",
    "plt.figure(figsize=(15, 6))\n",
    "plt.plot(cumulative_data_A_cut['date'], cumulative_data_A_cut['revenue'], label='A_cut', linestyle='dashed', linewidth = 3)\n",
    "plt.plot(cumulative_data_B_cut['date'], cumulative_data_B_cut['revenue'], label='B_cut', linestyle='dashed', linewidth = 3)\n",
    "\n",
    "plt.plot(cumulative_data_A['date'], cumulative_data_A['revenue'], label='A', color='C0')\n",
    "plt.plot(cumulative_data_B['date'], cumulative_data_B['revenue'], label='B', color='C1')\n",
    "\n",
    "plt.xlabel('Дата')\n",
    "plt.ylabel('Выручка')\n",
    "plt.legend()\n",
    "plt.title('Кумулятивная выручка по группам \"с\" и \"без\" пользователей, попавших в обе группы'); "
   ]
  },
  {
   "cell_type": "markdown",
   "id": "751b8567",
   "metadata": {},
   "source": [
    "Накопленная выручка группы В на протяжении всего времени исследования превышает показатель группы А. При этом, между 17 и 21 августа происходит резкий скачок выручки у группы В, что вероятно может быть связано с единичной крупной покупкой, так и с резким ростом конверсии посетителей группы В из посетителей в покупатели. \n",
    "\n",
    "Данный момент можно будет детализировать при отображении последующих метрик. \n",
    "\n",
    "Отличий на качественном уровне в поведении графиков без фильтрации и с фильтрацией пользователей-дублеров нет: тренды и взаиморасположение кумулятивной выручки повторяют версию без фильтрации."
   ]
  },
  {
   "cell_type": "markdown",
   "id": "6d5c0c47",
   "metadata": {},
   "source": [
    "### 2.2 График кумулятивного среднего чека по группам"
   ]
  },
  {
   "cell_type": "code",
   "execution_count": 17,
   "id": "1ce98421",
   "metadata": {},
   "outputs": [
    {
     "data": {
      "image/png": "[encoded data removed]",
      "text/plain": [
       "<Figure size 1500x600 with 1 Axes>"
      ]
     },
     "metadata": {},
     "output_type": "display_data"
    }
   ],
   "source": [
    "plt.figure(figsize=(15, 6))\n",
    "plt.plot(cumulative_data_A['date'], cumulative_data_A['revenue']/cumulative_data_A['orders'], label='A', color='C0')\n",
    "plt.plot(cumulative_data_B['date'], cumulative_data_B['revenue']/cumulative_data_B['orders'], label='B', color='C1')\n",
    "\n",
    "plt.plot(cumulative_data_A_cut['date'], cumulative_data_A_cut['revenue']/cumulative_data_A_cut['orders'],\n",
    "         label='A_cut', linestyle='dashed', color='C0')\n",
    "plt.plot(cumulative_data_B_cut['date'], cumulative_data_B_cut['revenue']/cumulative_data_B_cut['orders'],\n",
    "         label='A_cut', linestyle='dashed', color='C1')\n",
    "plt.xlabel('Дата')\n",
    "plt.ylabel('Средний чек')\n",
    "plt.legend()\n",
    "plt.title('Кумулятивный средний чек по группам \"c\" и \"без\" пользователей, попавших в обе группы'); "
   ]
  },
  {
   "cell_type": "markdown",
   "id": "efd7b923",
   "metadata": {},
   "source": [
    "Кумулятивный средний чек группы В опережает почти на всем протяжении теста группу А, кроме самого старта и нескольких дней в середине исследования. Так же видим резкий скачок у группы В, который отмечали на прошлом графике.\n",
    "\n",
    "\n",
    "Отличия между графиками \"с\" и \"без\" пользователей, попавших в обе группы - минимальны."
   ]
  },
  {
   "cell_type": "markdown",
   "id": "6e7899b7",
   "metadata": {},
   "source": [
    "### 2.3 График относительного изменения кумулятивного среднего чека группы B к группе A"
   ]
  },
  {
   "cell_type": "code",
   "execution_count": 18,
   "id": "3bc60823",
   "metadata": {},
   "outputs": [
    {
     "data": {
      "image/png": "[encoded data removed]",
      "text/plain": [
       "<Figure size 1500x600 with 1 Axes>"
      ]
     },
     "metadata": {},
     "output_type": "display_data"
    }
   ],
   "source": [
    "# собираем данные в одном датафрейме\n",
    "merged_cumulative_revenue = cumulative_data_A.merge(\n",
    "    cumulative_data_B, left_on='date', right_on='date', how='left', suffixes=['A', 'B'])\n",
    "\n",
    "# cтроим отношение средних чеков\n",
    "plt.figure(figsize=(15, 6))\n",
    "plt.plot(merged_cumulative_revenue['date'], \\\n",
    "         (merged_cumulative_revenue['revenueB']/merged_cumulative_revenue['ordersB'])/\n",
    "         (merged_cumulative_revenue['revenueA']/merged_cumulative_revenue['ordersA'])-1)\n",
    "\n",
    "# добавляем ось X\n",
    "plt.axhline(y=0, color='black', linestyle='--')\n",
    "\n",
    "# аналогичные операции для дф без пользователей дублеров\n",
    "merged_cumulative_revenue_cut = cumulative_data_A_cut.merge(\n",
    "    cumulative_data_B_cut, left_on='date', right_on='date', how='left', suffixes=['A', 'B'])\n",
    "\n",
    "# cтроим отношение средних чеков\n",
    "plt.plot(merged_cumulative_revenue_cut['date'], \\\n",
    "         (merged_cumulative_revenue_cut['revenueB']/merged_cumulative_revenue_cut['ordersB'])/\n",
    "         (merged_cumulative_revenue_cut['revenueA']/merged_cumulative_revenue_cut['ordersA'])-1, \n",
    "         label='cut', color='C0', linestyle='dashed', alpha = 0.5)\n",
    "plt.xlabel('Дата')\n",
    "plt.ylabel('Относительное изменение, доли')\n",
    "plt.legend()\n",
    "plt.title('Относительное изменения кумулятивного среднего чека группы B к группе A (\"с\" и \"без\" пользователей,\\\n",
    "попавших в обе группы)');"
   ]
  },
  {
   "cell_type": "markdown",
   "id": "20408fdf",
   "metadata": {},
   "source": [
    "На этом графике лучше стали видны отличия, которые не так бросались в глаза на предыдущем графике. Сейчас отчетливо видно, что средний чек группы А был лучше В совсем незначительное время.\n",
    "\n",
    "Стоит так же отметить, что дальнейший анализ выбросов может существенно изменить поведение графика В между 17 и 21 августа.\n",
    "\n",
    "Минимальные отличия между графиками \"с\" и \"без\" пользователей, попавших в обе группы, сохраняются и на этом графике."
   ]
  },
  {
   "cell_type": "markdown",
   "id": "af1fd77c",
   "metadata": {},
   "source": [
    "### 2.4 График кумулятивного среднего количества заказов на посетителя по группам\n"
   ]
  },
  {
   "cell_type": "markdown",
   "id": "0345a32a",
   "metadata": {},
   "source": [
    "Здесь и далее при расчетах параметров с использованием таблицы visitors показатели без учета пользователей,\n",
    "попавших в обе группы не рассчитываются, т.к. итоговые значения будут искажены ввиду невозможности исключить пользователей-дублеров из посетителей."
   ]
  },
  {
   "cell_type": "code",
   "execution_count": 19,
   "id": "47b14f7c",
   "metadata": {},
   "outputs": [
    {
     "data": {
      "image/png": "[encoded data removed]",
      "text/plain": [
       "<Figure size 1500x600 with 1 Axes>"
      ]
     },
     "metadata": {},
     "output_type": "display_data"
    }
   ],
   "source": [
    "cumulative_A = cumulative_data[cumulative_data['group']=='A']\n",
    "cumulative_B = cumulative_data[cumulative_data['group']=='B']\n",
    "\n",
    "# Скрытие ошибки SettingWithCopyWarning\n",
    "warnings.filterwarnings(\"ignore\", category=pd.core.common.SettingWithCopyWarning)\n",
    "\n",
    "# преобразуем серии revenue, orders, buyers,visitors в накопленную сумму\n",
    "cumulative_A[['revenue','orders','buyers','visitors']] = \\\n",
    "                        cumulative_A[['revenue','orders','buyers','visitors']].apply(lambda x: x.cumsum(), axis=0) \n",
    "cumulative_B[['revenue','orders','buyers','visitors']] = \\\n",
    "                        cumulative_B[['revenue','orders','buyers','visitors']].apply(lambda x: x.cumsum(), axis=0) \n",
    "\n",
    "cumulative_A['conversion'] = cumulative_A['orders']/cumulative_A['visitors']\n",
    "cumulative_B['conversion'] = cumulative_B['orders']/cumulative_B['visitors']\n",
    "\n",
    "# строим графики\n",
    "plt.figure(figsize=(15, 6))\n",
    "plt.plot(cumulative_A['date'], cumulative_A['conversion'], label='A')\n",
    "plt.plot(cumulative_B['date'], cumulative_B['conversion'], label='B')\n",
    "plt.legend()\n",
    "plt.xlabel('Дата')\n",
    "plt.ylabel('Среднее кол-во заказов')\n",
    "\n",
    "# задаем масштаб осей\n",
    "plt.axis([dt.datetime(2019, 8, 1), dt.datetime(2019, 8, 31), 0.02, 0.04])\n",
    "plt.title('Кумулятивное среднее количество заказов на посетителя по группам');"
   ]
  },
  {
   "cell_type": "markdown",
   "id": "13b4bf38",
   "metadata": {},
   "source": [
    "Конверсия группы В была ниже только в начале исследования, в остальные дни пользователи группы В стабильно совершали переход \"посетитель-покупатель\" чаще. Лучше оценить этот показатель позволит следующий график."
   ]
  },
  {
   "cell_type": "markdown",
   "id": "3f965b65",
   "metadata": {},
   "source": [
    "### 2.5 График относительного изменения кумулятивного среднего количества заказов на посетителя группы B к группе A"
   ]
  },
  {
   "cell_type": "code",
   "execution_count": 20,
   "id": "5fa669e5",
   "metadata": {},
   "outputs": [
    {
     "data": {
      "image/png": "[encoded data removed]",
      "text/plain": [
       "<Figure size 1500x600 with 1 Axes>"
      ]
     },
     "metadata": {},
     "output_type": "display_data"
    }
   ],
   "source": [
    "merged_conversions = cumulative_A[['date','conversion']].merge(cumulative_B[['date','conversion']], \\\n",
    "                                                               left_on='date', right_on='date', how='left', suffixes=['A', 'B'])\n",
    "\n",
    "plt.figure(figsize=(15, 6))\n",
    "plt.plot(merged_conversions['date'], merged_conversions['conversionB']/merged_conversions['conversionA']-1, \\\n",
    "         label=\"Относительный прирост конверсии группы B относительно группы A\")\n",
    "plt.axhline(y=0, color='black', linestyle='--')\n",
    "plt.axhline(y=0.1, color='grey', linestyle='--')\n",
    "plt.legend()\n",
    "plt.xlabel('Дата')\n",
    "plt.ylabel('Относительное изменение, доли')\n",
    "plt.axis([dt.datetime(2019, 8, 1), dt.datetime(2019, 8, 31), -0.3, 0.3]);"
   ]
  },
  {
   "cell_type": "markdown",
   "id": "e5d9c3d8",
   "metadata": {},
   "source": [
    "Первые дни августа конверсия группы А была чуть лучше, затем до 20х чисел августа группа В превышала группу А примерно на 15-20%, к концу месяца превышение вышло на плато в 10%  "
   ]
  },
  {
   "cell_type": "markdown",
   "id": "3f82393f",
   "metadata": {},
   "source": [
    "### 2.6 График количества заказов на пользователя"
   ]
  },
  {
   "cell_type": "code",
   "execution_count": 21,
   "id": "21a91b78",
   "metadata": {},
   "outputs": [
    {
     "data": {
      "text/html": [
       "<div>\n",
       "<style scoped>\n",
       "    .dataframe tbody tr th:only-of-type {\n",
       "        vertical-align: middle;\n",
       "    }\n",
       "\n",
       "    .dataframe tbody tr th {\n",
       "        vertical-align: top;\n",
       "    }\n",
       "\n",
       "    .dataframe thead th {\n",
       "        text-align: right;\n",
       "    }\n",
       "</style>\n",
       "<table border=\"1\" class=\"dataframe\">\n",
       "  <thead>\n",
       "    <tr style=\"text-align: right;\">\n",
       "      <th></th>\n",
       "      <th>userId</th>\n",
       "      <th>orders</th>\n",
       "    </tr>\n",
       "  </thead>\n",
       "  <tbody>\n",
       "    <tr>\n",
       "      <th>1023</th>\n",
       "      <td>4256040402</td>\n",
       "      <td>11</td>\n",
       "    </tr>\n",
       "    <tr>\n",
       "      <th>591</th>\n",
       "      <td>2458001652</td>\n",
       "      <td>11</td>\n",
       "    </tr>\n",
       "    <tr>\n",
       "      <th>569</th>\n",
       "      <td>2378935119</td>\n",
       "      <td>9</td>\n",
       "    </tr>\n",
       "    <tr>\n",
       "      <th>487</th>\n",
       "      <td>2038680547</td>\n",
       "      <td>8</td>\n",
       "    </tr>\n",
       "    <tr>\n",
       "      <th>44</th>\n",
       "      <td>199603092</td>\n",
       "      <td>5</td>\n",
       "    </tr>\n",
       "  </tbody>\n",
       "</table>\n",
       "</div>"
      ],
      "text/plain": [
       "          userId  orders\n",
       "1023  4256040402      11\n",
       "591   2458001652      11\n",
       "569   2378935119       9\n",
       "487   2038680547       8\n",
       "44     199603092       5"
      ]
     },
     "metadata": {},
     "output_type": "display_data"
    },
    {
     "data": {
      "image/png": "[encoded data removed]",
      "text/plain": [
       "<Figure size 1500x300 with 1 Axes>"
      ]
     },
     "metadata": {},
     "output_type": "display_data"
    }
   ],
   "source": [
    "orders_per_user = (orders.groupby('visitorId', as_index=False).agg({'transactionId': 'nunique'}))\n",
    "orders_per_user.columns = ['userId', 'orders']\n",
    "\n",
    "# отобразим топ5 пользователей\n",
    "display(orders_per_user.sort_values(by='orders', ascending=False).head(5))\n",
    "\n",
    "# серия из чисел от 0 до количества наблюдений в orders_per_user\n",
    "x_values = pd.Series(range(0, len(orders_per_user)))\n",
    "plt.figure(figsize=(15, 3))\n",
    "plt.scatter(x_values, orders_per_user['orders'])\n",
    "plt.xlabel('n')\n",
    "plt.ylabel('Число заказов')\n",
    "plt.title('Общее количество заказов на одного пользователя');"
   ]
  },
  {
   "cell_type": "markdown",
   "id": "0d487144",
   "metadata": {},
   "source": [
    "Большее число пользователей имеют по одному заказу, больше 2 заказов - редкость. Есть несколько пользователей-лидеров, которые сделали по 11 заказов. \n",
    "\n",
    "Оценим 95-й и 99-й перцентили количества заказов на пользователя.\n"
   ]
  },
  {
   "cell_type": "code",
   "execution_count": 22,
   "id": "c9536273",
   "metadata": {},
   "outputs": [
    {
     "name": "stdout",
     "output_type": "stream",
     "text": [
      "[2. 4.]\n"
     ]
    }
   ],
   "source": [
    "print(np.percentile(orders_per_user['orders'], [95, 99.0])) "
   ]
  },
  {
   "cell_type": "markdown",
   "id": "cf57cf3d",
   "metadata": {},
   "source": [
    "Не более 5% пользователей совершили более 2 заказов и только 1% более 4 заказов.\n",
    "За границу для определения аномальных пользователей можно выбрать 4 заказа."
   ]
  },
  {
   "cell_type": "markdown",
   "id": "ec092072",
   "metadata": {},
   "source": [
    "### 2.7 График стоимостей заказов"
   ]
  },
  {
   "cell_type": "code",
   "execution_count": 23,
   "id": "07ccb83f",
   "metadata": {},
   "outputs": [
    {
     "data": {
      "text/html": [
       "<div>\n",
       "<style scoped>\n",
       "    .dataframe tbody tr th:only-of-type {\n",
       "        vertical-align: middle;\n",
       "    }\n",
       "\n",
       "    .dataframe tbody tr th {\n",
       "        vertical-align: top;\n",
       "    }\n",
       "\n",
       "    .dataframe thead th {\n",
       "        text-align: right;\n",
       "    }\n",
       "</style>\n",
       "<table border=\"1\" class=\"dataframe\">\n",
       "  <thead>\n",
       "    <tr style=\"text-align: right;\">\n",
       "      <th></th>\n",
       "      <th>transactionId</th>\n",
       "      <th>visitorId</th>\n",
       "      <th>date</th>\n",
       "      <th>revenue</th>\n",
       "      <th>group</th>\n",
       "    </tr>\n",
       "  </thead>\n",
       "  <tbody>\n",
       "    <tr>\n",
       "      <th>425</th>\n",
       "      <td>590470918</td>\n",
       "      <td>1920142716</td>\n",
       "      <td>2019-08-19</td>\n",
       "      <td>1294500</td>\n",
       "      <td>B</td>\n",
       "    </tr>\n",
       "    <tr>\n",
       "      <th>1196</th>\n",
       "      <td>3936777065</td>\n",
       "      <td>2108080724</td>\n",
       "      <td>2019-08-15</td>\n",
       "      <td>202740</td>\n",
       "      <td>B</td>\n",
       "    </tr>\n",
       "    <tr>\n",
       "      <th>858</th>\n",
       "      <td>192721366</td>\n",
       "      <td>1316129916</td>\n",
       "      <td>2019-08-27</td>\n",
       "      <td>93940</td>\n",
       "      <td>A</td>\n",
       "    </tr>\n",
       "    <tr>\n",
       "      <th>1136</th>\n",
       "      <td>666610489</td>\n",
       "      <td>1307669133</td>\n",
       "      <td>2019-08-13</td>\n",
       "      <td>92550</td>\n",
       "      <td>A</td>\n",
       "    </tr>\n",
       "    <tr>\n",
       "      <th>744</th>\n",
       "      <td>3668308183</td>\n",
       "      <td>888512513</td>\n",
       "      <td>2019-08-27</td>\n",
       "      <td>86620</td>\n",
       "      <td>B</td>\n",
       "    </tr>\n",
       "    <tr>\n",
       "      <th>682</th>\n",
       "      <td>1216533772</td>\n",
       "      <td>4266935830</td>\n",
       "      <td>2019-08-29</td>\n",
       "      <td>78990</td>\n",
       "      <td>B</td>\n",
       "    </tr>\n",
       "    <tr>\n",
       "      <th>662</th>\n",
       "      <td>1811671147</td>\n",
       "      <td>4266935830</td>\n",
       "      <td>2019-08-29</td>\n",
       "      <td>78990</td>\n",
       "      <td>A</td>\n",
       "    </tr>\n",
       "    <tr>\n",
       "      <th>743</th>\n",
       "      <td>3603576309</td>\n",
       "      <td>4133034833</td>\n",
       "      <td>2019-08-09</td>\n",
       "      <td>67990</td>\n",
       "      <td>A</td>\n",
       "    </tr>\n",
       "    <tr>\n",
       "      <th>1103</th>\n",
       "      <td>1348774318</td>\n",
       "      <td>1164614297</td>\n",
       "      <td>2019-08-12</td>\n",
       "      <td>66350</td>\n",
       "      <td>A</td>\n",
       "    </tr>\n",
       "    <tr>\n",
       "      <th>1099</th>\n",
       "      <td>316924019</td>\n",
       "      <td>148427295</td>\n",
       "      <td>2019-08-12</td>\n",
       "      <td>65710</td>\n",
       "      <td>A</td>\n",
       "    </tr>\n",
       "  </tbody>\n",
       "</table>\n",
       "</div>"
      ],
      "text/plain": [
       "      transactionId   visitorId       date  revenue group\n",
       "425       590470918  1920142716 2019-08-19  1294500     B\n",
       "1196     3936777065  2108080724 2019-08-15   202740     B\n",
       "858       192721366  1316129916 2019-08-27    93940     A\n",
       "1136      666610489  1307669133 2019-08-13    92550     A\n",
       "744      3668308183   888512513 2019-08-27    86620     B\n",
       "682      1216533772  4266935830 2019-08-29    78990     B\n",
       "662      1811671147  4266935830 2019-08-29    78990     A\n",
       "743      3603576309  4133034833 2019-08-09    67990     A\n",
       "1103     1348774318  1164614297 2019-08-12    66350     A\n",
       "1099      316924019   148427295 2019-08-12    65710     A"
      ]
     },
     "metadata": {},
     "output_type": "display_data"
    },
    {
     "data": {
      "image/png": "[encoded data removed]",
      "text/plain": [
       "<Figure size 1500x300 with 1 Axes>"
      ]
     },
     "metadata": {},
     "output_type": "display_data"
    },
    {
     "data": {
      "image/png": "[encoded data removed]",
      "text/plain": [
       "<Figure size 1500x300 with 1 Axes>"
      ]
     },
     "metadata": {},
     "output_type": "display_data"
    }
   ],
   "source": [
    "display(orders.sort_values(by='revenue', ascending=False).head(10))\n",
    "\n",
    "x_values = pd.Series(range(0, len(orders['revenue'])))\n",
    "plt.figure(figsize=(15, 3))\n",
    "plt.scatter(x_values, orders['revenue'])\n",
    "plt.xlabel('n')\n",
    "plt.ylabel('Стоимость')\n",
    "plt.title('Стоимость заказов');\n",
    "\n",
    "plt.figure(figsize=(15, 3))\n",
    "plt.scatter(x_values, orders['revenue'])\n",
    "plt.xlabel('n')\n",
    "plt.ylim(0,100000)\n",
    "plt.axhline(y=40000, color='grey', linestyle='--')\n",
    "plt.xlabel('n')\n",
    "plt.ylabel('Стоимость')\n",
    "plt.title('Стоимость заказов, зум на диапазон [0-100к]');"
   ]
  },
  {
   "cell_type": "code",
   "execution_count": 24,
   "id": "83fa1c4c",
   "metadata": {},
   "outputs": [
    {
     "name": "stdout",
     "output_type": "stream",
     "text": [
      "[28000.  58233.2]\n"
     ]
    }
   ],
   "source": [
    "print(np.percentile(orders['revenue'], [95, 99.0])) "
   ]
  },
  {
   "cell_type": "markdown",
   "id": "7e56d60d",
   "metadata": {},
   "source": [
    "Визуально сумма большинства заказов составляет менее 40 тысяч рублей, что подтверждается расчетом перцентилей, описанных ниже.\n",
    "\n",
    "Перцентиль 95 показывает, что он равен 28 тысячам и лишь 1% процент заказов дороже 58 тысяч. Лидерский заказ почти на 1.3млн - явный выброс, который вероятно относится к группе и сильно влияет на поведение кумулятивного среднего чека и кумулятивной выручки. За граничное значение возьмем 40 тысяч."
   ]
  },
  {
   "cell_type": "markdown",
   "id": "17921830",
   "metadata": {},
   "source": [
    "### 2.8 Расчет статистической значимости различий в среднем количестве заказов на посетителя между группами по «сырым» данным"
   ]
  },
  {
   "cell_type": "markdown",
   "id": "0652de42",
   "metadata": {},
   "source": [
    "Сформулируем гипотезы. Нулевая гипотеза: различий в среднем количестве заказов между группами нет. Альтернативная: различия в среднем между группами есть."
   ]
  },
  {
   "cell_type": "code",
   "execution_count": 25,
   "id": "0a3d8864",
   "metadata": {},
   "outputs": [],
   "source": [
    "# считаем накопленное количество посетителей в день в группе А\n",
    "visitorsA_daily = visitors[visitors['group'] == 'A'][['date', 'visitors']]\n",
    "visitorsA_daily.columns = ['date', 'visitorsPerDateA']\n",
    "\n",
    "visitorsACummulative = visitorsA_daily.apply(lambda x: visitorsA_daily[visitorsA_daily['date'] <= x['date']].agg(\n",
    "        {'date': 'max', 'visitorsPerDateA': 'sum'}), axis=1)\n",
    "\n",
    "visitorsACummulative.columns = ['date', 'visitorsCummulativeA']\n",
    "\n",
    "\n",
    "# считаем накопленное количество посетителей в день в группе В\n",
    "visitorsB_daily = visitors[visitors['group'] == 'B'][['date', 'visitors']]\n",
    "visitorsB_daily.columns = ['date', 'visitorsPerDateB']\n",
    "\n",
    "visitorsBCummulative = visitorsB_daily.apply(lambda x: visitorsB_daily[visitorsB_daily['date'] <= x['date']].agg(\n",
    "        {'date': 'max', 'visitorsPerDateB': 'sum'}), axis=1)\n",
    "\n",
    "visitorsBCummulative.columns = ['date', 'visitorsCummulativeB']\n",
    "\n",
    "# считаем накопленную выручку и количество заказов по дня для группы А\n",
    "ordersADaily = (\n",
    "    orders[orders['group'] == 'A'][['date', 'transactionId', 'visitorId', 'revenue']]\n",
    "    .groupby('date', as_index=False)\n",
    "    .agg({'transactionId': pd.Series.nunique, 'revenue': 'sum'})\n",
    ")\n",
    "ordersADaily.columns = ['date', 'ordersPerDateA', 'revenuePerDateA']\n",
    "\n",
    "ordersACummulative = ordersADaily.apply(\n",
    "    lambda x: ordersADaily[ordersADaily['date'] <= x['date']].agg(\n",
    "        {'date': 'max', 'ordersPerDateA': 'sum', 'revenuePerDateA': 'sum'}\n",
    "    ),\n",
    "    axis=1,\n",
    ").sort_values(by=['date'])\n",
    "ordersACummulative.columns = [\n",
    "    'date',\n",
    "    'ordersCummulativeA',\n",
    "    'revenueCummulativeA',\n",
    "]\n",
    "\n",
    "# считаем накопленую выручку и количество заказов по дня для группы В\n",
    "ordersBDaily = (\n",
    "    orders[orders['group'] == 'B'][['date', 'transactionId', 'visitorId', 'revenue']]\n",
    "    .groupby('date', as_index=False)\n",
    "    .agg({'transactionId': pd.Series.nunique, 'revenue': 'sum'})\n",
    ")\n",
    "ordersBDaily.columns = ['date', 'ordersPerDateB', 'revenuePerDateB']\n",
    "\n",
    "ordersBCummulative = ordersBDaily.apply(\n",
    "    lambda x: ordersBDaily[ordersBDaily['date'] <= x['date']].agg(\n",
    "        {'date': 'max', 'ordersPerDateB': 'sum', 'revenuePerDateB': 'sum'}\n",
    "    ),\n",
    "    axis=1,\n",
    ").sort_values(by=['date'])\n",
    "ordersBCummulative.columns = [\n",
    "    'date',\n",
    "    'ordersCummulativeB',\n",
    "    'revenueCummulativeB',\n",
    "]\n",
    "\n",
    "# объединим получившиеся датафреймы\n",
    "data = (\n",
    "    ordersADaily.merge(\n",
    "        ordersBDaily, left_on='date', right_on='date', how='left'\n",
    "    )\n",
    "    .merge(ordersACummulative, left_on='date', right_on='date', how='left')\n",
    "    .merge(ordersBCummulative, left_on='date', right_on='date', how='left')\n",
    "    .merge(visitorsA_daily, left_on='date', right_on='date', how='left')\n",
    "    .merge(visitorsB_daily, left_on='date', right_on='date', how='left')\n",
    "    .merge(visitorsACummulative, left_on='date', right_on='date', how='left')\n",
    "    .merge(visitorsBCummulative, left_on='date', right_on='date', how='left')\n",
    ")\n",
    "\n",
    "# кол-во заказов на пользователя группы А\n",
    "ordersByUsersA = (\n",
    "    orders[orders['group'] == 'A']\n",
    "    .groupby('visitorId', as_index=False)\n",
    "    .agg({'transactionId': pd.Series.nunique})\n",
    ")\n",
    "ordersByUsersA.columns = ['userId', 'orders']\n",
    "\n",
    "# кол-во заказов на пользователя группы В \n",
    "ordersByUsersB = (\n",
    "    orders[orders['group'] == 'B']\n",
    "    .groupby('visitorId', as_index=False)\n",
    "    .agg({'transactionId': pd.Series.nunique})\n",
    ")\n",
    "ordersByUsersB.columns = ['userId', 'orders'] \n",
    "\n",
    "# переменные, в которых пользователям с заказами соответствует число заказов пользователя\n",
    "sampleA = pd.concat([ordersByUsersA['orders'],pd.Series(\n",
    "    0, index=np.arange(data['visitorsPerDateA'].sum() - len(ordersByUsersA['orders'])), name='orders')],axis=0)\n",
    "\n",
    "sampleB = pd.concat([ordersByUsersB['orders'],pd.Series(\n",
    "    0, index=np.arange(data['visitorsPerDateB'].sum() - len(ordersByUsersB['orders'])), name='orders')],axis=0)"
   ]
  },
  {
   "cell_type": "markdown",
   "id": "41122414",
   "metadata": {},
   "source": [
    "Расчет статистической значимости различий среднего количества заказов по результатам А/В теста с помощью тест Манна-Уитни, расчет p-value для сравнения среднего между группами\n",
    "\n"
   ]
  },
  {
   "cell_type": "code",
   "execution_count": 26,
   "id": "ebbe2015",
   "metadata": {},
   "outputs": [
    {
     "name": "stdout",
     "output_type": "stream",
     "text": [
      "0.01679\n"
     ]
    }
   ],
   "source": [
    "print(\"{0:.5f}\".format(stats.mannwhitneyu(sampleA, sampleB)[1]))"
   ]
  },
  {
   "cell_type": "markdown",
   "id": "a0f4cf94",
   "metadata": {},
   "source": [
    "Расчет относительного различия в среднем между группами\n",
    "                                                                                 \n"
   ]
  },
  {
   "cell_type": "code",
   "execution_count": 27,
   "id": "61b3a747",
   "metadata": {},
   "outputs": [
    {
     "name": "stdout",
     "output_type": "stream",
     "text": [
      "0.138\n"
     ]
    }
   ],
   "source": [
    "print(\"{0:.3f}\".format(sampleB.mean() / sampleA.mean() - 1))   "
   ]
  },
  {
   "cell_type": "markdown",
   "id": "255febdf",
   "metadata": {},
   "source": [
    "P-value меньше 0.05, поэтому на сырых данных можно отвергнуть нулевую гипотезу: в среднем количестве заказов между группами есть статистически значимые различия.\n",
    "\n",
    "Относительный прирост среднего группы В к конверсии группы А равен 13.8%."
   ]
  },
  {
   "cell_type": "markdown",
   "id": "4579e5a1",
   "metadata": {},
   "source": [
    "### 2.9 Расчет статистической значимости различий в среднем чеке заказа между группами по «сырым» данным"
   ]
  },
  {
   "cell_type": "markdown",
   "id": "65a1a57f",
   "metadata": {},
   "source": [
    "Нулевая гипотеза: различий в среднем чеке между группами нет. Альтернативная гипотеза: различия в среднем чеке между группами есть. "
   ]
  },
  {
   "cell_type": "code",
   "execution_count": 28,
   "id": "fc76b883",
   "metadata": {},
   "outputs": [
    {
     "name": "stdout",
     "output_type": "stream",
     "text": [
      "0.729\n",
      "0.259\n"
     ]
    }
   ],
   "source": [
    "# каждому выводу зададим переменную для дальнейшего общего свода\n",
    "p1 = ('{0:.3f}'.format(stats.mannwhitneyu(orders[orders['group']=='A']['revenue'], \n",
    "                                               orders[orders['group']=='B']['revenue'])[1]))\n",
    "r1 = ('{0:.3f}'.format(orders[orders['group']=='B']['revenue'].mean()\n",
    "                            /orders[orders['group']=='A']['revenue'].mean()-1)) \n",
    "print(p1)\n",
    "print(r1)"
   ]
  },
  {
   "cell_type": "markdown",
   "id": "51bdd8fb",
   "metadata": {},
   "source": [
    "P-value значительно больше 0.05. Значит, причин отвергать нулевую гипотезу и считать, что в среднем чеке есть различия, нет. \n",
    "\n",
    "Но при этом, средний чек группы B выше чека группы A - на 25.6%. Наблюдаемые различия не являются значимыми при таком уровне значимости, а следовательно, были получены случайно.\n",
    "\n",
    "Посмотрим, как изменяться показатели после работы с выбросами."
   ]
  },
  {
   "cell_type": "markdown",
   "id": "0e8c6550",
   "metadata": {},
   "source": [
    "### 2.10 Расчет статистической значимости различий в среднем количестве заказов на посетителя между группами по «очищенным» данным"
   ]
  },
  {
   "cell_type": "markdown",
   "id": "0edea875",
   "metadata": {},
   "source": [
    "В пункте 2.6 и 2.7 были определены границы для редких значений:\n",
    "\n",
    "* количество заказов на человека: 4 и более\n",
    "* максимальная сумма одного заказа: 40 тысяч\n",
    "\n",
    "Выполним расчет статистической значимости различий в среднем количестве заказов на посетителя между группами без таких пользователей"
   ]
  },
  {
   "cell_type": "code",
   "execution_count": 29,
   "id": "04f3bb81",
   "metadata": {},
   "outputs": [
    {
     "name": "stdout",
     "output_type": "stream",
     "text": [
      "0.00931\n",
      "0.164\n"
     ]
    }
   ],
   "source": [
    "# фильтрация выбросов\n",
    "usersWithManyOrders = pd.concat(\n",
    "    [\n",
    "        ordersByUsersA[ordersByUsersA['orders'] >= 4]['userId'], \n",
    "        ordersByUsersB[ordersByUsersB['orders'] >= 4]['userId'],\n",
    "    ],\n",
    "    axis=0,\n",
    ")\n",
    "usersWithExpensiveOrders = orders[orders['revenue'] > 40000]['visitorId']\n",
    "abnormalUsers = (\n",
    "    pd.concat([usersWithManyOrders, usersWithExpensiveOrders], axis=0)\n",
    "    .drop_duplicates()\n",
    "    .sort_values()\n",
    ")\n",
    "\n",
    "\n",
    "sampleAFiltered = pd.concat(\n",
    "    [\n",
    "        ordersByUsersA[\n",
    "            np.logical_not(ordersByUsersA['userId'].isin(abnormalUsers))\n",
    "        ]['orders'],\n",
    "        pd.Series(\n",
    "            0,\n",
    "            index=np.arange(\n",
    "                data['visitorsPerDateA'].sum() - len(ordersByUsersA['orders'])\n",
    "            ),\n",
    "            name='orders',\n",
    "        ),\n",
    "    ],\n",
    "    axis=0,\n",
    ")\n",
    "\n",
    "# переменные, в которых пользователям с заказами соответствует число заказов пользователя\n",
    "sampleBFiltered = pd.concat(\n",
    "    [\n",
    "        ordersByUsersB[\n",
    "            np.logical_not(ordersByUsersB['userId'].isin(abnormalUsers))\n",
    "        ]['orders'],\n",
    "        pd.Series(\n",
    "            0,\n",
    "            index=np.arange(\n",
    "                data['visitorsPerDateB'].sum() - len(ordersByUsersB['orders'])\n",
    "            ),\n",
    "            name='orders',\n",
    "        ),\n",
    "    ],\n",
    "    axis=0,\n",
    ") \n",
    "print('{0:.5f}'.format(stats.mannwhitneyu(sampleAFiltered, sampleBFiltered)[1]))\n",
    "print('{0:.3f}'.format(sampleBFiltered.mean()/sampleAFiltered.mean()-1)) "
   ]
  },
  {
   "cell_type": "markdown",
   "id": "226b1d0c",
   "metadata": {},
   "source": [
    "Значения до фильтрации - 0.01679 и 0.138.\n",
    "После фильтрации P-value по-прежнему меньше 0.05, поэтому отвергаем нулевую гипотезу о том, что статистически значимых различий в среднем числе заказов между группами нет.\n",
    "\n",
    "Отфильтрованные данные показывали, что в среднем количестве заказов между группами есть статистически значимые различия: относительный прирост среднего группы В к конверсии группы А равен 16.4%.\n",
    "\n",
    "Таким образом, конверсия группы действительно имеет значимые улучшения в сравнении с группой А."
   ]
  },
  {
   "cell_type": "markdown",
   "id": "fb19026f",
   "metadata": {},
   "source": [
    "### 2.11 Расчет статистической значимости различий в среднем чеке заказа между группами по «очищенным» данным"
   ]
  },
  {
   "cell_type": "code",
   "execution_count": 30,
   "id": "424fa356",
   "metadata": {},
   "outputs": [
    {
     "name": "stdout",
     "output_type": "stream",
     "text": [
      "0.711\n",
      "0.060\n"
     ]
    }
   ],
   "source": [
    "p2 = (\n",
    "    '{0:.3f}'.format(\n",
    "        stats.mannwhitneyu(\n",
    "            orders[\n",
    "                np.logical_and(\n",
    "                    orders['group'] == 'A',\n",
    "                    np.logical_not(orders['visitorId'].isin(abnormalUsers)),\n",
    "                )\n",
    "            ]['revenue'],\n",
    "            orders[\n",
    "                np.logical_and(\n",
    "                    orders['group'] == 'B',\n",
    "                    np.logical_not(orders['visitorId'].isin(abnormalUsers)),\n",
    "                )\n",
    "            ]['revenue'],\n",
    "        )[1]\n",
    "    )\n",
    ")\n",
    "\n",
    "r2 = (\n",
    "    \"{0:.3f}\".format(\n",
    "        orders[\n",
    "            np.logical_and(\n",
    "                orders['group'] == 'B',\n",
    "                np.logical_not(orders['visitorId'].isin(abnormalUsers)),\n",
    "            )\n",
    "        ]['revenue'].mean()\n",
    "        / orders[\n",
    "            np.logical_and(\n",
    "                orders['group'] == 'A',\n",
    "                np.logical_not(orders['visitorId'].isin(abnormalUsers)),\n",
    "            )\n",
    "        ]['revenue'].mean()\n",
    "        - 1\n",
    "    )\n",
    ") \n",
    "print(p2)\n",
    "print(r2)"
   ]
  },
  {
   "cell_type": "markdown",
   "id": "417afd5c",
   "metadata": {},
   "source": [
    "Значения до фильтрации - 0.729 и 0.259.\n",
    "\n",
    "P-value по-прежнему значительно больше 0.05, соответственно, причин отвергать нулевую гипотезу и считать, что в среднем чеке есть различия, нет.\n",
    "\n",
    "До фильтрации средний чек группы B выше чека группы A - на 25.6%, после фильтрации - всего 6%.\n",
    "\n",
    "Таким образом, после фильтрации статистической значимости не появилось, средний чек группы не имеет значимых улучшений в сравнении с группой А. На это указывало p-value до фильтрации, а после фильтрации и отношение прироста среднего чека группы В к чеку группы А.\n"
   ]
  },
  {
   "cell_type": "markdown",
   "id": "1ef839a9",
   "metadata": {},
   "source": [
    "### 2.12 Проверка влияния пользователей, попавших в обе группы"
   ]
  },
  {
   "cell_type": "markdown",
   "id": "c90278e5",
   "metadata": {},
   "source": [
    "Выполним расчет всех метрик без пользователей, попавших в обе группы, а затем сведем все полученные данные в один датафрейм"
   ]
  },
  {
   "cell_type": "markdown",
   "id": "5f430031",
   "metadata": {},
   "source": [
    "**Расчет статистической значимости различий в среднем количестве заказов без пользователей дублеров до фильтрации выбросов**"
   ]
  },
  {
   "cell_type": "code",
   "execution_count": 31,
   "id": "bf2031c7",
   "metadata": {},
   "outputs": [
    {
     "name": "stdout",
     "output_type": "stream",
     "text": [
      "0.01103\n",
      "0.160\n"
     ]
    }
   ],
   "source": [
    "# фильтрация дубликатов\n",
    "\n",
    "sampleA_cut = pd.concat(\n",
    "    [\n",
    "        ordersByUsersA[\n",
    "            np.logical_not(ordersByUsersA['userId'].isin(double_users))\n",
    "        ]['orders'],\n",
    "        pd.Series(\n",
    "            0,\n",
    "            index=np.arange(\n",
    "                data['visitorsPerDateA'].sum() - len(ordersByUsersA['orders'])\n",
    "            ),\n",
    "            name='orders',\n",
    "        ),\n",
    "    ],\n",
    "    axis=0,\n",
    ")\n",
    "\n",
    "# переменные, в которых пользователям с заказами соответствует число заказов пользователя\n",
    "sampleB_cut = pd.concat(\n",
    "    [\n",
    "        ordersByUsersB[\n",
    "            np.logical_not(ordersByUsersB['userId'].isin(double_users))\n",
    "        ]['orders'],\n",
    "        pd.Series(\n",
    "            0,\n",
    "            index=np.arange(\n",
    "                data['visitorsPerDateB'].sum() - len(ordersByUsersB['orders'])\n",
    "            ),\n",
    "            name='orders',\n",
    "        ),\n",
    "    ],\n",
    "    axis=0,\n",
    ") \n",
    "print('{0:.5f}'.format(stats.mannwhitneyu(sampleA_cut, sampleB_cut)[1]))\n",
    "print('{0:.3f}'.format(sampleB_cut.mean()/sampleA_cut.mean()-1)) "
   ]
  },
  {
   "cell_type": "markdown",
   "id": "2b381216",
   "metadata": {},
   "source": [
    "**Расчет статистической значимости различий в среднем количестве заказов без пользователей дублеров с фильтрации выбросов**"
   ]
  },
  {
   "cell_type": "code",
   "execution_count": 32,
   "id": "3043f6f4",
   "metadata": {},
   "outputs": [
    {
     "data": {
      "text/plain": [
       "1099     148427295\n",
       "18       199603092\n",
       "23       237748145\n",
       "684      358944393\n",
       "648      382846391\n",
       "           ...    \n",
       "51      3963646447\n",
       "54      3234906277\n",
       "55         8300375\n",
       "56      4120364173\n",
       "57       963407295\n",
       "Length: 81, dtype: int64"
      ]
     },
     "execution_count": 32,
     "metadata": {},
     "output_type": "execute_result"
    }
   ],
   "source": [
    "# объединим abnormalUsers и double_users\n",
    "double_plus_abnormal = pd.concat([abnormalUsers, double_users])\n",
    "double_plus_abnormal = double_plus_abnormal.drop_duplicates()\n",
    "double_plus_abnormal"
   ]
  },
  {
   "cell_type": "code",
   "execution_count": 33,
   "id": "ff3f2c25",
   "metadata": {},
   "outputs": [
    {
     "name": "stdout",
     "output_type": "stream",
     "text": [
      "0.00622\n",
      "0.178\n"
     ]
    }
   ],
   "source": [
    "# фильтрация дубликатов\n",
    "\n",
    "sampleA_cut_filtred = pd.concat(\n",
    "    [\n",
    "        ordersByUsersA[\n",
    "            np.logical_not(ordersByUsersA['userId'].isin(double_plus_abnormal))\n",
    "        ]['orders'],\n",
    "        pd.Series(\n",
    "            0,\n",
    "            index=np.arange(\n",
    "                data['visitorsPerDateA'].sum() - len(ordersByUsersA['orders'])\n",
    "            ),\n",
    "            name='orders',\n",
    "        ),\n",
    "    ],\n",
    "    axis=0,\n",
    ")\n",
    "\n",
    "# переменные, в которых пользователям с заказами соответствует число заказов пользователя\n",
    "sampleB_cut_filtred = pd.concat(\n",
    "    [\n",
    "        ordersByUsersB[\n",
    "            np.logical_not(ordersByUsersB['userId'].isin(double_plus_abnormal))\n",
    "        ]['orders'],\n",
    "        pd.Series(\n",
    "            0,\n",
    "            index=np.arange(\n",
    "                data['visitorsPerDateB'].sum() - len(ordersByUsersB['orders'])\n",
    "            ),\n",
    "            name='orders',\n",
    "        ),\n",
    "    ],\n",
    "    axis=0,\n",
    ") \n",
    "print('{0:.5f}'.format(stats.mannwhitneyu(sampleA_cut_filtred, sampleB_cut_filtred)[1]))\n",
    "print('{0:.3f}'.format(sampleB_cut_filtred.mean()/sampleA_cut_filtred.mean()-1)) "
   ]
  },
  {
   "cell_type": "markdown",
   "id": "1654c5dd",
   "metadata": {},
   "source": [
    "**Расчет статистической значимости различий в среднем чеке заказа без пользователей дублеров до фильтрации выбросов**"
   ]
  },
  {
   "cell_type": "code",
   "execution_count": 34,
   "id": "1b76619a",
   "metadata": {},
   "outputs": [
    {
     "name": "stdout",
     "output_type": "stream",
     "text": [
      "0.829\n",
      "0.287\n"
     ]
    }
   ],
   "source": [
    "p3 = (\n",
    "    '{0:.3f}'.format(\n",
    "        stats.mannwhitneyu(\n",
    "            orders[\n",
    "                np.logical_and(\n",
    "                    orders['group'] == 'A',\n",
    "                    np.logical_not(orders['visitorId'].isin(double_users)),\n",
    "                )\n",
    "            ]['revenue'],\n",
    "            orders[\n",
    "                np.logical_and(\n",
    "                    orders['group'] == 'B',\n",
    "                    np.logical_not(orders['visitorId'].isin(double_users)),\n",
    "                )\n",
    "            ]['revenue'],\n",
    "        )[1]\n",
    "    )\n",
    ")\n",
    "\n",
    "r3 = (\n",
    "    \"{0:.3f}\".format(\n",
    "        orders[\n",
    "            np.logical_and(\n",
    "                orders['group'] == 'B',\n",
    "                np.logical_not(orders['visitorId'].isin(double_users)),\n",
    "            )\n",
    "        ]['revenue'].mean()\n",
    "        / orders[\n",
    "            np.logical_and(\n",
    "                orders['group'] == 'A',\n",
    "                np.logical_not(orders['visitorId'].isin(double_users)),\n",
    "            )\n",
    "        ]['revenue'].mean()\n",
    "        - 1\n",
    "    )\n",
    ") \n",
    "print(p3)\n",
    "print(r3)"
   ]
  },
  {
   "cell_type": "markdown",
   "id": "93b876ba",
   "metadata": {},
   "source": [
    "**Расчет статистической значимости различий в среднем чеке заказа без пользователей дублеров после фильтрации выбросов**"
   ]
  },
  {
   "cell_type": "code",
   "execution_count": 35,
   "id": "b3ca6776",
   "metadata": {},
   "outputs": [
    {
     "name": "stdout",
     "output_type": "stream",
     "text": [
      "0.831\n",
      "0.051\n"
     ]
    }
   ],
   "source": [
    "p4 = (\n",
    "    '{0:.3f}'.format(\n",
    "        stats.mannwhitneyu(\n",
    "            orders[\n",
    "                np.logical_and(\n",
    "                    orders['group'] == 'A',\n",
    "                    np.logical_not(orders['visitorId'].isin(double_plus_abnormal)),\n",
    "                )\n",
    "            ]['revenue'],\n",
    "            orders[\n",
    "                np.logical_and(\n",
    "                    orders['group'] == 'B',\n",
    "                    np.logical_not(orders['visitorId'].isin(double_plus_abnormal)),\n",
    "                )\n",
    "            ]['revenue'],\n",
    "        )[1]\n",
    "    )\n",
    ")\n",
    "\n",
    "r4 = (\n",
    "    \"{0:.3f}\".format(\n",
    "        orders[\n",
    "            np.logical_and(\n",
    "                orders['group'] == 'B',\n",
    "                np.logical_not(orders['visitorId'].isin(double_plus_abnormal)),\n",
    "            )\n",
    "        ]['revenue'].mean()\n",
    "        / orders[\n",
    "            np.logical_and(\n",
    "                orders['group'] == 'A',\n",
    "                np.logical_not(orders['visitorId'].isin(double_plus_abnormal)),\n",
    "            )\n",
    "        ]['revenue'].mean()\n",
    "        - 1\n",
    "    )\n",
    ") \n",
    "print(p4)\n",
    "print(r4)"
   ]
  },
  {
   "cell_type": "markdown",
   "id": "f951263a",
   "metadata": {},
   "source": [
    "Соберем результаты в общий датафрейм"
   ]
  },
  {
   "cell_type": "code",
   "execution_count": 36,
   "id": "182ee7f2",
   "metadata": {},
   "outputs": [
    {
     "data": {
      "text/html": [
       "<div>\n",
       "<style scoped>\n",
       "    .dataframe tbody tr th:only-of-type {\n",
       "        vertical-align: middle;\n",
       "    }\n",
       "\n",
       "    .dataframe tbody tr th {\n",
       "        vertical-align: top;\n",
       "    }\n",
       "\n",
       "    .dataframe thead th {\n",
       "        text-align: right;\n",
       "    }\n",
       "</style>\n",
       "<table border=\"1\" class=\"dataframe\">\n",
       "  <thead>\n",
       "    <tr style=\"text-align: right;\">\n",
       "      <th></th>\n",
       "      <th>metric</th>\n",
       "      <th>value</th>\n",
       "      <th>raw</th>\n",
       "      <th>filtred</th>\n",
       "      <th>cut</th>\n",
       "      <th>filtred_cut</th>\n",
       "    </tr>\n",
       "  </thead>\n",
       "  <tbody>\n",
       "    <tr>\n",
       "      <th>0</th>\n",
       "      <td>orders</td>\n",
       "      <td>p-value</td>\n",
       "      <td>0.01679</td>\n",
       "      <td>0.00931</td>\n",
       "      <td>0.01103</td>\n",
       "      <td>0.00622</td>\n",
       "    </tr>\n",
       "    <tr>\n",
       "      <th>1</th>\n",
       "      <td>orders</td>\n",
       "      <td>B-A relation</td>\n",
       "      <td>0.138</td>\n",
       "      <td>0.164</td>\n",
       "      <td>0.160</td>\n",
       "      <td>0.178</td>\n",
       "    </tr>\n",
       "    <tr>\n",
       "      <th>2</th>\n",
       "      <td>AOV</td>\n",
       "      <td>p-value</td>\n",
       "      <td>0.729</td>\n",
       "      <td>0.711</td>\n",
       "      <td>0.829</td>\n",
       "      <td>0.831</td>\n",
       "    </tr>\n",
       "    <tr>\n",
       "      <th>3</th>\n",
       "      <td>AOV</td>\n",
       "      <td>B-A relation</td>\n",
       "      <td>0.259</td>\n",
       "      <td>0.060</td>\n",
       "      <td>0.287</td>\n",
       "      <td>0.051</td>\n",
       "    </tr>\n",
       "  </tbody>\n",
       "</table>\n",
       "</div>"
      ],
      "text/plain": [
       "   metric         value      raw  filtred      cut filtred_cut\n",
       "0  orders       p-value  0.01679  0.00931  0.01103     0.00622\n",
       "1  orders  B-A relation    0.138    0.164    0.160       0.178\n",
       "2    AOV        p-value    0.729    0.711    0.829       0.831\n",
       "3    AOV   B-A relation    0.259    0.060    0.287       0.051"
      ]
     },
     "execution_count": 36,
     "metadata": {},
     "output_type": "execute_result"
    }
   ],
   "source": [
    "# Создание списка словарей с данными\n",
    "data = [['orders',\n",
    "         'p-value', \n",
    "         (\"{0:.5f}\".format(stats.mannwhitneyu(sampleA, sampleB)[1])), \n",
    "         ('{0:.5f}'.format(stats.mannwhitneyu(sampleAFiltered, sampleBFiltered)[1])),\n",
    "         ('{0:.5f}'.format(stats.mannwhitneyu(sampleA_cut, sampleB_cut)[1])),\n",
    "         ('{0:.5f}'.format(stats.mannwhitneyu(sampleA_cut_filtred, sampleB_cut_filtred)[1]))],\n",
    "        ['orders',\n",
    "         'B-A relation',\n",
    "         (\"{0:.3f}\".format(sampleB.mean() / sampleA.mean() - 1)),\n",
    "         ('{0:.3f}'.format(sampleBFiltered.mean()/sampleAFiltered.mean()-1)) ,\n",
    "         ('{0:.3f}'.format(sampleB_cut.mean()/sampleA_cut.mean()-1)),\n",
    "         ('{0:.3f}'.format(sampleB_cut_filtred.mean()/sampleA_cut_filtred.mean()-1)) ],\n",
    "       ['AOV ',\n",
    "         'p-value', \n",
    "         p1, \n",
    "         p2,\n",
    "         p3,\n",
    "         p4],\n",
    "        ['AOV ',\n",
    "         'B-A relation',\n",
    "         r1,\n",
    "         r2,\n",
    "         r3,\n",
    "         r4]]\n",
    "    \n",
    "\n",
    "# Создание датафрейма из списка списков\n",
    "results = pd.DataFrame(data, columns=['metric','value', 'raw', 'filtred', 'cut', 'filtred_cut'])\n",
    "results"
   ]
  },
  {
   "cell_type": "markdown",
   "id": "c8f26683",
   "metadata": {},
   "source": [
    "Пользователи, попавшие в обе группы, внесли изменения, но не добавили кардинальных отличий в результаты тестирования в разрезе исследуемых показателей. Как в варианте с фильтрацией выбросов, так и без нее. В целом, показатели группы В еще немного улучшились."
   ]
  },
  {
   "cell_type": "markdown",
   "id": "cadc767e",
   "metadata": {},
   "source": [
    "## Выводы"
   ]
  },
  {
   "cell_type": "markdown",
   "id": "dca7f7df",
   "metadata": {},
   "source": [
    "В ходе работы проведена предобработка данных, построено графическое отображение ряда метрик, визуально группа В показывает себя лучше группы А.\n",
    "\n",
    "Были определены выбивающиеся значения стоимости заказов и количества заказав на одного пользователя, которые далее использовались для фильтрации данных.\n",
    "\n",
    "Расчеты статистической значимости проведены для следующих вариантов данных: \n",
    "* сырых\n",
    "* фильтрованных от выбросов\n",
    "* сырых с исключением пользователей, попавших в обе группы данных\n",
    "* фильтрованных от выбросов и исключением пользователей, попавших в обе группы данных\n",
    "\n",
    "Наличие 58 пользователей, попавших в обе группы, кардинально не влияет на показатели основных метрик.\n",
    "\n",
    "Отвергнута нулевая гипотеза: различий в среднем количестве заказов на посетителя между группами нет, p-value менее 0.05.\n",
    "\n",
    "График различия конверсии между группами указывает на значительно лучшие результаты группы B в сравнении с группой A: от 13.8% на сырых данных до 17.8% с удалением аномальных значений и без учета пользоватлей, которые попали в обе группы. Показатели статистической значимости среднего количества заказов на посетителя подтверждают данный вывод.\n",
    "\n",
    "Гипотезу \"различий в среднем чеке между группами нет\" отвергнуть не получилось.\n",
    "График различия среднего чека колеблется, косвенно указывая на наличие аномалий. При этом, фильтрации выбросов не позволила обнаружить статистически значимых различия по среднему чеку между группами, разница между группами менее 1%.\n",
    "\n",
    "Таким образом, резюмирую вышеописанное, можно назвать остановить тест, признать его успешным: изменения, предлагаемые пользователям группы В, позволили улучшить среднее количество заказов на посетителя, при этом, не оказав значимого влияния на средний чек.\n",
    "\n",
    "При проведении дальнейших тестов рекомендуется стараться не допускать попадания пользователей в обе группы исследуемые группы. В данном тесте такие пользователи не оказали критического влияния, но в будущем это может привести пустым тратам и некондиционности А/В теста, если, например, доля таких пользователей будет выше. "
   ]
  }
 ],
 "metadata": {
  "ExecuteTimeLog": [
   {
    "duration": 1237,
    "start_time": "2023-06-27T12:02:56.606Z"
   },
   {
    "duration": 190,
    "start_time": "2023-06-27T12:02:57.845Z"
   },
   {
    "duration": 14,
    "start_time": "2023-06-27T12:02:58.037Z"
   },
   {
    "duration": 12,
    "start_time": "2023-06-27T12:02:58.053Z"
   },
   {
    "duration": 13,
    "start_time": "2023-06-27T12:02:58.066Z"
   },
   {
    "duration": 18,
    "start_time": "2023-06-27T12:02:58.081Z"
   },
   {
    "duration": 6,
    "start_time": "2023-06-27T12:02:58.100Z"
   },
   {
    "duration": 15,
    "start_time": "2023-06-27T12:02:58.108Z"
   },
   {
    "duration": 12,
    "start_time": "2023-06-27T12:02:58.124Z"
   },
   {
    "duration": 33,
    "start_time": "2023-06-27T12:02:58.138Z"
   },
   {
    "duration": 10,
    "start_time": "2023-06-27T12:02:58.172Z"
   },
   {
    "duration": 11,
    "start_time": "2023-06-27T12:02:58.183Z"
   },
   {
    "duration": 13,
    "start_time": "2023-06-27T12:02:58.195Z"
   },
   {
    "duration": 13,
    "start_time": "2023-06-27T12:02:58.209Z"
   },
   {
    "duration": 46,
    "start_time": "2023-06-27T12:02:58.223Z"
   },
   {
    "duration": 12,
    "start_time": "2023-06-27T12:02:58.271Z"
   },
   {
    "duration": 19,
    "start_time": "2023-06-27T12:02:58.285Z"
   },
   {
    "duration": 11,
    "start_time": "2023-06-27T12:02:58.306Z"
   },
   {
    "duration": 183,
    "start_time": "2023-06-27T12:02:58.318Z"
   },
   {
    "duration": 182,
    "start_time": "2023-06-27T12:02:58.503Z"
   },
   {
    "duration": 165,
    "start_time": "2023-06-27T12:02:58.686Z"
   },
   {
    "duration": 360,
    "start_time": "2023-06-27T12:02:58.853Z"
   },
   {
    "duration": 276,
    "start_time": "2023-06-27T12:03:02.540Z"
   },
   {
    "duration": 303,
    "start_time": "2023-06-27T12:03:02.819Z"
   },
   {
    "duration": 161,
    "start_time": "2023-06-27T12:03:03.124Z"
   },
   {
    "duration": 5,
    "start_time": "2023-06-27T12:03:08.622Z"
   },
   {
    "duration": 431,
    "start_time": "2023-06-27T12:03:08.629Z"
   },
   {
    "duration": 8,
    "start_time": "2023-06-27T12:03:09.062Z"
   },
   {
    "duration": 406,
    "start_time": "2023-06-27T12:03:09.072Z"
   },
   {
    "duration": 29,
    "start_time": "2023-06-27T12:03:10.746Z"
   },
   {
    "duration": 4,
    "start_time": "2023-06-27T12:03:10.777Z"
   },
   {
    "duration": 21,
    "start_time": "2023-06-27T12:03:10.783Z"
   },
   {
    "duration": 34,
    "start_time": "2023-06-27T12:03:10.806Z"
   },
   {
    "duration": 34,
    "start_time": "2023-06-27T12:03:10.843Z"
   },
   {
    "duration": 26,
    "start_time": "2023-06-27T12:03:10.879Z"
   },
   {
    "duration": 6,
    "start_time": "2023-06-27T12:03:10.907Z"
   },
   {
    "duration": 28,
    "start_time": "2023-06-27T12:03:10.914Z"
   },
   {
    "duration": 35,
    "start_time": "2023-06-27T12:03:10.944Z"
   },
   {
    "duration": 11,
    "start_time": "2023-06-27T12:03:10.981Z"
   },
   {
    "duration": 112,
    "start_time": "2023-06-27T12:03:10.994Z"
   },
   {
    "duration": 8,
    "start_time": "2023-06-27T12:03:11.109Z"
   },
   {
    "duration": 1083,
    "start_time": "2023-06-27T12:03:52.427Z"
   },
   {
    "duration": 75,
    "start_time": "2023-06-27T12:03:53.511Z"
   },
   {
    "duration": 15,
    "start_time": "2023-06-27T12:03:53.587Z"
   },
   {
    "duration": 11,
    "start_time": "2023-06-27T12:03:53.604Z"
   },
   {
    "duration": 12,
    "start_time": "2023-06-27T12:03:53.617Z"
   },
   {
    "duration": 18,
    "start_time": "2023-06-27T12:03:53.630Z"
   },
   {
    "duration": 6,
    "start_time": "2023-06-27T12:03:53.649Z"
   },
   {
    "duration": 14,
    "start_time": "2023-06-27T12:03:53.668Z"
   },
   {
    "duration": 12,
    "start_time": "2023-06-27T12:03:53.683Z"
   },
   {
    "duration": 5,
    "start_time": "2023-06-27T12:03:53.697Z"
   },
   {
    "duration": 7,
    "start_time": "2023-06-27T12:03:53.703Z"
   },
   {
    "duration": 14,
    "start_time": "2023-06-27T12:03:53.711Z"
   },
   {
    "duration": 50,
    "start_time": "2023-06-27T12:03:53.727Z"
   },
   {
    "duration": 13,
    "start_time": "2023-06-27T12:03:53.778Z"
   },
   {
    "duration": 11,
    "start_time": "2023-06-27T12:03:53.793Z"
   },
   {
    "duration": 12,
    "start_time": "2023-06-27T12:03:53.806Z"
   },
   {
    "duration": 49,
    "start_time": "2023-06-27T12:03:53.820Z"
   },
   {
    "duration": 12,
    "start_time": "2023-06-27T12:03:53.871Z"
   },
   {
    "duration": 347,
    "start_time": "2023-06-27T12:03:53.885Z"
   },
   {
    "duration": 267,
    "start_time": "2023-06-27T12:03:54.233Z"
   },
   {
    "duration": 230,
    "start_time": "2023-06-27T12:03:54.502Z"
   },
   {
    "duration": 423,
    "start_time": "2023-06-27T12:03:54.734Z"
   },
   {
    "duration": 200,
    "start_time": "2023-06-27T12:03:55.159Z"
   },
   {
    "duration": 294,
    "start_time": "2023-06-27T12:03:55.361Z"
   },
   {
    "duration": 137,
    "start_time": "2023-06-27T12:03:55.657Z"
   },
   {
    "duration": 4,
    "start_time": "2023-06-27T12:03:55.797Z"
   },
   {
    "duration": 368,
    "start_time": "2023-06-27T12:03:55.803Z"
   },
   {
    "duration": 4,
    "start_time": "2023-06-27T12:03:56.174Z"
   },
   {
    "duration": 422,
    "start_time": "2023-06-27T12:03:56.180Z"
   },
   {
    "duration": 21,
    "start_time": "2023-06-27T12:03:56.604Z"
   },
   {
    "duration": 4,
    "start_time": "2023-06-27T12:03:56.627Z"
   },
   {
    "duration": 11,
    "start_time": "2023-06-27T12:03:56.632Z"
   },
   {
    "duration": 31,
    "start_time": "2023-06-27T12:03:56.668Z"
   },
   {
    "duration": 14,
    "start_time": "2023-06-27T12:03:56.701Z"
   },
   {
    "duration": 53,
    "start_time": "2023-06-27T12:03:56.716Z"
   },
   {
    "duration": 7,
    "start_time": "2023-06-27T12:03:56.771Z"
   },
   {
    "duration": 28,
    "start_time": "2023-06-27T12:03:56.780Z"
   },
   {
    "duration": 14,
    "start_time": "2023-06-27T12:03:56.809Z"
   },
   {
    "duration": 43,
    "start_time": "2023-06-27T12:03:56.825Z"
   },
   {
    "duration": 82,
    "start_time": "2023-06-27T12:03:56.870Z"
   },
   {
    "duration": 10,
    "start_time": "2023-06-27T12:03:56.967Z"
   }
  ],
  "kernelspec": {
   "display_name": "Python 3 (ipykernel)",
   "language": "python",
   "name": "python3"
  },
  "language_info": {
   "codemirror_mode": {
    "name": "ipython",
    "version": 3
   },
   "file_extension": ".py",
   "mimetype": "text/x-python",
   "name": "python",
   "nbconvert_exporter": "python",
   "pygments_lexer": "ipython3",
   "version": "3.9.13"
  },
  "toc": {
   "base_numbering": 1,
   "nav_menu": {},
   "number_sections": true,
   "sideBar": true,
   "skip_h1_title": true,
   "title_cell": "Table of Contents",
   "title_sidebar": "Contents",
   "toc_cell": false,
   "toc_position": {},
   "toc_section_display": true,
   "toc_window_display": false
  }
 },
 "nbformat": 4,
 "nbformat_minor": 5
}
